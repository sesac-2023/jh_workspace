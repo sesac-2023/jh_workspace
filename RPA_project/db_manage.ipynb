{
 "cells": [
  {
   "cell_type": "code",
   "execution_count": 1,
   "metadata": {},
   "outputs": [],
   "source": [
    "import pymysql"
   ]
  },
  {
   "cell_type": "code",
   "execution_count": 2,
   "metadata": {},
   "outputs": [],
   "source": [
    "def read_config(p:str) -> dict:\n",
    "    \"\"\"\n",
    "    p: config file 경로\n",
    "    \"\"\"\n",
    "    with open(p, 'r') as f:\n",
    "        lines = f.readlines()\n",
    "\n",
    "    config_dict = {}\n",
    "    for l in lines:\n",
    "        idx = l.index('=')\n",
    "        k = l[:idx]\n",
    "        v = l[idx+1:]\n",
    "        config_dict[k] = v.strip()\n",
    "    config_dict[\"port\"] = 3307\n",
    "    \n",
    "    return config_dict"
   ]
  },
  {
   "cell_type": "code",
   "execution_count": 3,
   "metadata": {},
   "outputs": [
    {
     "data": {
      "text/plain": [
       "{'host': 'localhost',\n",
       " 'port': 3307,\n",
       " 'user': 'leoni',\n",
       " 'password': 'password',\n",
       " 'database': 'player_transfer_info',\n",
       " 'charset': 'utf8mb4'}"
      ]
     },
     "execution_count": 3,
     "metadata": {},
     "output_type": "execute_result"
    }
   ],
   "source": [
    "db_config = read_config('./db_config')\n",
    "db_config"
   ]
  },
  {
   "cell_type": "code",
   "execution_count": 4,
   "metadata": {},
   "outputs": [
    {
     "name": "stdout",
     "output_type": "stream",
     "text": [
      "연결 성공\n"
     ]
    }
   ],
   "source": [
    "try:\n",
    "    conn = pymysql.connect(**db_config)\n",
    "    # conn = pymysql.connect(**config_dict)\n",
    "    print(\"연결 성공\")\n",
    "except Exception as e:\n",
    "    print(\"연결 실패\", e)"
   ]
  }
 ],
 "metadata": {
  "kernelspec": {
   "display_name": "base",
   "language": "python",
   "name": "python3"
  },
  "language_info": {
   "codemirror_mode": {
    "name": "ipython",
    "version": 3
   },
   "file_extension": ".py",
   "mimetype": "text/x-python",
   "name": "python",
   "nbconvert_exporter": "python",
   "pygments_lexer": "ipython3",
   "version": "3.9.16"
  },
  "orig_nbformat": 4
 },
 "nbformat": 4,
 "nbformat_minor": 2
}
