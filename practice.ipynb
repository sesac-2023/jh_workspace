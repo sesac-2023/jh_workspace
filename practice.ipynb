{
 "cells": [
  {
   "attachments": {},
   "cell_type": "markdown",
   "metadata": {},
   "source": [
    "### 최빈값 구하기 (Lv.0)"
   ]
  },
  {
   "cell_type": "code",
   "execution_count": null,
   "metadata": {},
   "outputs": [],
   "source": [
    "def solution(array):\n",
    "    num_count = 0\n",
    "    mode = 0\n",
    "    for i in set(array):\n",
    "        if array.count(i) > num_count:\n",
    "            num_count = array.count(i)\n",
    "            mode = i\n",
    "        elif array.count(i) == num_count:\n",
    "            mode = -1\n",
    "    return mode"
   ]
  },
  {
   "attachments": {},
   "cell_type": "markdown",
   "metadata": {},
   "source": [
    "## * 딕셔너리에 key가 없을 때 처리하는 방법\n",
    "### 1. try-except\n",
    "``` python\n",
    "try:\n",
    "    counter[1] += 1 # 있으면, 1을 더해줌\n",
    "except:\n",
    "    counter[1] = 1  # 없으면, 1로 초기화\n",
    "```\n",
    "### 2. key 존재 여부 체크\n",
    "``` python\n",
    "if i in counter:\n",
    "    counter[1] += 1\n",
    "else:\n",
    "    counter[1] = 1\n",
    "```\n",
    "\n",
    "### 3. 딕셔너리 메서드 활용\n",
    "``` python\n",
    "counter = {}\n",
    "counter.get(1, 0)   # key 값을 가져오고 없으면 0\n",
    "```"
   ]
  },
  {
   "cell_type": "code",
   "execution_count": null,
   "metadata": {},
   "outputs": [],
   "source": [
    "# 강사님 풀이\n",
    "def solution(array):\n",
    "    counter = {}\n",
    "    \n",
    "    # 1. 빈도 수 확인 (배열을 돌면서)\n",
    "    for number in array:\n",
    "        counter[number] += counter.get(number, 0) + 1\n",
    "\n",
    "    # 2. 최빈값 개수 확인, 결과값 반환\n",
    "    max_median = -1\n",
    "    max_values = [] # 빈도 수가 같으면, 여기에 넣어주기 위해서\n",
    "    for key in counter:\n",
    "        key, counter[key]   # 숫자와 빈도 수\n",
    "        if max_median < counter[key]:    # 현재 빈도 수가 더 크면,\n",
    "            max_values = [key]           # max_values를 key로 초기화\n",
    "            max_median = counter[key]    # 빈도 수로 최신화\n",
    "        elif max_median == counter[key]: # 빈도 수가 같으면,\n",
    "            max_values.append(key)       # 값 목록에 추가\n",
    "\n",
    "    if len(max_values) > 1:\n",
    "        return -1\n",
    "    else:\n",
    "        return max_values[0]"
   ]
  },
  {
   "attachments": {},
   "cell_type": "markdown",
   "metadata": {},
   "source": [
    "### 피자 나눠 먹기 (1) (Lv.0)"
   ]
  },
  {
   "cell_type": "code",
   "execution_count": null,
   "metadata": {},
   "outputs": [],
   "source": [
    "import math\n",
    "def solution(n):\n",
    "    answer = 0\n",
    "    # 피자를 7조각으로 나눠주고,\n",
    "    # n명이 한 조각 이상씩 먹을 수 있도록 하는 피자의 수\n",
    "\n",
    "    # 방법 1. math 모듈의 ceil 이용\n",
    "    answer = math.ceil(n / 7)\n",
    "\n",
    "    # 방법 2. 조건식 활용\n",
    "    if n % 7 != 0:\n",
    "        answer = n // 7 + 1\n",
    "    else:\n",
    "        answer = n // 7\n",
    "    # 조건표현식\n",
    "    answer = (n // 7 + 1) if n % 7 != 0 else (n // 7)\n",
    "    answer = n // 7 + (1 if n % 7 != 0 else 0)\n",
    "    \n",
    "    return answer"
   ]
  }
 ],
 "metadata": {
  "kernelspec": {
   "display_name": "base",
   "language": "python",
   "name": "python3"
  },
  "language_info": {
   "name": "python",
   "version": "3.9.16"
  },
  "orig_nbformat": 4
 },
 "nbformat": 4,
 "nbformat_minor": 2
}
