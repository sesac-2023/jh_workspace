{
 "cells": [
  {
   "attachments": {},
   "cell_type": "markdown",
   "metadata": {},
   "source": [
    "### 최빈값 구하기 (Lv.0)"
   ]
  },
  {
   "cell_type": "code",
   "execution_count": null,
   "metadata": {},
   "outputs": [],
   "source": [
    "def solution(array):\n",
    "    num_count = 0\n",
    "    mode = 0\n",
    "    for i in set(array):\n",
    "        if array.count(i) > num_count:\n",
    "            num_count = array.count(i)\n",
    "            mode = i\n",
    "        elif array.count(i) == num_count:\n",
    "            mode = -1\n",
    "    return mode"
   ]
  },
  {
   "attachments": {},
   "cell_type": "markdown",
   "metadata": {},
   "source": [
    "## * 딕셔너리에 key가 없을 때 처리하는 방법\n",
    "### 1. try-except\n",
    "``` python\n",
    "try:\n",
    "    counter[1] += 1 # 있으면, 1을 더해줌\n",
    "except:\n",
    "    counter[1] = 1  # 없으면, 1로 초기화\n",
    "```\n",
    "### 2. key 존재 여부 체크\n",
    "``` python\n",
    "if i in counter:\n",
    "    counter[1] += 1\n",
    "else:\n",
    "    counter[1] = 1\n",
    "```\n",
    "\n",
    "### 3. 딕셔너리 메서드 활용\n",
    "``` python\n",
    "counter = {}\n",
    "counter.get(1, 0)   # key 값을 가져오고 없으면 0\n",
    "```"
   ]
  },
  {
   "cell_type": "code",
   "execution_count": null,
   "metadata": {},
   "outputs": [],
   "source": [
    "# 강사님 풀이\n",
    "def solution(array):\n",
    "    counter = {}\n",
    "    \n",
    "    # 1. 빈도 수 확인 (배열을 돌면서)\n",
    "    for number in array:\n",
    "        counter[number] += counter.get(number, 0) + 1\n",
    "\n",
    "    # 2. 최빈값 개수 확인, 결과값 반환\n",
    "    max_median = -1\n",
    "    max_values = [] # 빈도 수가 같으면, 여기에 넣어주기 위해서\n",
    "    for key in counter:\n",
    "        key, counter[key]   # 숫자와 빈도 수\n",
    "        if max_median < counter[key]:    # 현재 빈도 수가 더 크면,\n",
    "            max_values = [key]           # max_values를 key로 초기화\n",
    "            max_median = counter[key]    # 빈도 수로 최신화\n",
    "        elif max_median == counter[key]: # 빈도 수가 같으면,\n",
    "            max_values.append(key)       # 값 목록에 추가\n",
    "\n",
    "    if len(max_values) > 1:\n",
    "        return -1\n",
    "    else:\n",
    "        return max_values[0]"
   ]
  },
  {
   "attachments": {},
   "cell_type": "markdown",
   "metadata": {},
   "source": [
    "### 피자 나눠 먹기 (1) (Lv.0)"
   ]
  },
  {
   "cell_type": "code",
   "execution_count": null,
   "metadata": {},
   "outputs": [],
   "source": [
    "import math\n",
    "def solution(n):\n",
    "    answer = 0\n",
    "    # 피자를 7조각으로 나눠주고,\n",
    "    # n명이 한 조각 이상씩 먹을 수 있도록 하는 피자의 수\n",
    "\n",
    "    # 방법 1. math 모듈의 ceil 이용\n",
    "    answer = math.ceil(n / 7)\n",
    "\n",
    "    # 방법 2. 조건식 활용\n",
    "    if n % 7 != 0:\n",
    "        answer = n // 7 + 1\n",
    "    else:\n",
    "        answer = n // 7\n",
    "    # 조건표현식\n",
    "    answer = (n // 7 + 1) if n % 7 != 0 else (n // 7)\n",
    "    answer = n // 7 + (1 if n % 7 != 0 else 0)\n",
    "    \n",
    "    return answer"
   ]
  },
  {
   "attachments": {},
   "cell_type": "markdown",
   "metadata": {},
   "source": [
    "### K의 개수"
   ]
  },
  {
   "cell_type": "code",
   "execution_count": 27,
   "metadata": {},
   "outputs": [],
   "source": [
    "def solution(i, j, k):\n",
    "    answer = 0\n",
    "    for number in range(i, j+1):\n",
    "\n",
    "        # number를 10으로 나눈 몫이 0이 아닐 때까지,\n",
    "        while number//10:\n",
    "\n",
    "            # 10으로 나눈 나머지가 k이면, answer += 1\n",
    "            if number % 10 == k:\n",
    "                answer += 1\n",
    "            number //= 10\n",
    "        if number % 10 == k:\n",
    "            answer += 1\n",
    "    return answer"
   ]
  },
  {
   "cell_type": "code",
   "execution_count": 30,
   "metadata": {},
   "outputs": [],
   "source": [
    "# str 자료형의 특성 활용\n",
    "\n",
    "def solution(i, j, k):\n",
    "    return ''.join(map(str, range(i, j+1))).count(str(k))"
   ]
  },
  {
   "cell_type": "code",
   "execution_count": 31,
   "metadata": {},
   "outputs": [
    {
     "data": {
      "text/plain": [
       "6"
      ]
     },
     "execution_count": 31,
     "metadata": {},
     "output_type": "execute_result"
    }
   ],
   "source": [
    "solution(1, 13, 1)"
   ]
  },
  {
   "attachments": {},
   "cell_type": "markdown",
   "metadata": {},
   "source": [
    "### * 참 / 거짓 판별"
   ]
  },
  {
   "attachments": {},
   "cell_type": "markdown",
   "metadata": {},
   "source": [
    "```python\n",
    "if < >:\n",
    "    print(\"참\")\n",
    "else:\n",
    "    print(\"거짓\")\n",
    "````\n",
    "\n",
    "1) 수\n",
    "- 0이 아닌 모든 수(정수, 실수, ...)는 True, 0일 때 False\n",
    "\n",
    "2) 리스트, 집합\n",
    "- 리스트 or 집합이 비어있지 않으면 True, 비어있으면 False"
   ]
  },
  {
   "attachments": {},
   "cell_type": "markdown",
   "metadata": {},
   "source": [
    "### 할인 행사"
   ]
  },
  {
   "cell_type": "code",
   "execution_count": 2,
   "metadata": {},
   "outputs": [],
   "source": [
    "want = [\"banana\", \"apple\", \"rice\", \"pork\", \"pot\"]\n",
    "number = [3, 2, 2, 2, 1]\n",
    "discount = [\"chicken\", \"apple\", \"apple\", \"banana\", \"rice\", \"apple\", \"pork\", \"banana\", \"pork\", \"rice\", \"pot\", \"banana\", \"apple\", \"banana\"]\t"
   ]
  },
  {
   "cell_type": "code",
   "execution_count": null,
   "metadata": {},
   "outputs": [],
   "source": [
    "def solution(want, number, discount):    \n",
    "    answer = 0\n",
    "    # 10일 동안 회원 자격 부여\n",
    "    # 할인하는 제품은 하루에 하나씩만 구매 가능\n",
    "    \n",
    "    for i in range(len(discount) - 9):\n",
    "        items = discount[i:i+10]    # 10일 동안 살 수 있는 품목들\n",
    "        \n",
    "        for j in range(len(want)):\n",
    "            want[j]     # 구매 희망 상품\n",
    "            number[j]   # 구매 희망 개수\n",
    "            \n",
    "            # 10일 동안 살 수 있는 할인 품목들 개수와 구매 희망 개수가 다르면 break\n",
    "            if items.count(want[j]) != number[j]:\n",
    "                break\n",
    "                \n",
    "        # 반복문이 정상적으로 다 돌았으면,\n",
    "        else:\n",
    "            answer += 1\n",
    "    return answer"
   ]
  },
  {
   "cell_type": "code",
   "execution_count": 32,
   "metadata": {},
   "outputs": [],
   "source": [
    "# list(구매 희망 품목 * 구매 희망 개수) == list(10일동안 살 수 있는 품목) check\n",
    "def solution(want, number, discount):    \n",
    "    answer = 0\n",
    "    # 10일 동안 회원 자격 부여\n",
    "    # 할인하는 제품은 하루에 하나씩만 구매 가능\n",
    "    want_products = []\n",
    "\n",
    "    for i in range(len(want)):\n",
    "        want_products += [want[i]] * number[i]  # 구매 희망 상품을 구매 희망 개수만큼 요소로 만들어 리스트에 추가\n",
    "    want_products.sort()\n",
    "\n",
    "    for i in range(len(discount) - 9):\n",
    "        items = discount[i:i+10]    # 10일 동안 살 수 있는 품목들\n",
    "        items.sort()\n",
    "        if want_products == items:\n",
    "            answer += 1\n",
    "\n",
    "    return answer"
   ]
  },
  {
   "cell_type": "code",
   "execution_count": 36,
   "metadata": {},
   "outputs": [],
   "source": [
    "def solution(want, number, discount):    \n",
    "    answer = 0\n",
    "    # 10일 동안 회원 자격 부여\n",
    "    # 할인하는 제품은 하루에 하나씩만 구매 가능\n",
    "    shopping_cart = [0 for _ in want]\n",
    "    for product in discount[:10]:\n",
    "        if product in want: # 있는지 없는지 check\n",
    "            idx = want.index(product)\n",
    "            shopping_cart[idx] += 1\n",
    "\n",
    "    if shopping_cart == number:\n",
    "        answer += 1\n",
    "\n",
    "    for i in range(1, len(discount) - 9):\n",
    "        if discount[i-1] in want:       # 쇼핑카트에서 제외\n",
    "            idx = want.index(discount[i-1])\n",
    "            shopping_cart[idx] -= 1     \n",
    "        \n",
    "        if discount[i+9] in want:       # 쇼핑카트에 추가\n",
    "            idx = want.index(discount[i+9])\n",
    "            shopping_cart[idx] += 1\n",
    "\n",
    "        if shopping_cart == number:\n",
    "            answer += 1\n",
    "            \n",
    "    return answer"
   ]
  },
  {
   "cell_type": "code",
   "execution_count": null,
   "metadata": {},
   "outputs": [],
   "source": [
    "# dict 자료형 -> Counter 사용\n",
    "from collections import Counter\n",
    "\n",
    "def solution(want, number, discount):    \n",
    "    wishlist = Counter(dict(zip(want, number)))\n",
    "    answer = 0\n",
    "    \n",
    "    for i in range(len(discount)-9):\n",
    "        if wishlist == Counter(discount[i:i+10]):\n",
    "            answer += 1\n",
    "    return answer"
   ]
  },
  {
   "cell_type": "code",
   "execution_count": 37,
   "metadata": {},
   "outputs": [
    {
     "data": {
      "text/plain": [
       "3"
      ]
     },
     "execution_count": 37,
     "metadata": {},
     "output_type": "execute_result"
    }
   ],
   "source": [
    "solution(want, number, discount)"
   ]
  },
  {
   "cell_type": "code",
   "execution_count": null,
   "metadata": {},
   "outputs": [],
   "source": []
  }
 ],
 "metadata": {
  "kernelspec": {
   "display_name": "base",
   "language": "python",
   "name": "python3"
  },
  "language_info": {
   "codemirror_mode": {
    "name": "ipython",
    "version": 3
   },
   "file_extension": ".py",
   "mimetype": "text/x-python",
   "name": "python",
   "nbconvert_exporter": "python",
   "pygments_lexer": "ipython3",
   "version": "3.9.16"
  },
  "orig_nbformat": 4
 },
 "nbformat": 4,
 "nbformat_minor": 2
}
