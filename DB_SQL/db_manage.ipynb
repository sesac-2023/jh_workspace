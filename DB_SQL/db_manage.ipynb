{
 "cells": [
  {
   "attachments": {},
   "cell_type": "markdown",
   "metadata": {},
   "source": [
    "### 데이터베이스 연결"
   ]
  },
  {
   "cell_type": "code",
   "execution_count": 1,
   "metadata": {},
   "outputs": [
    {
     "name": "stdout",
     "output_type": "stream",
     "text": [
      "Collecting pymysql\n",
      "  Downloading PyMySQL-1.1.0-py3-none-any.whl (44 kB)\n",
      "                                              0.0/44.8 kB ? eta -:--:--\n",
      "     ---------------------------------------- 44.8/44.8 kB ? eta 0:00:00\n",
      "Installing collected packages: pymysql\n",
      "Successfully installed pymysql-1.1.0\n",
      "Note: you may need to restart the kernel to use updated packages.\n"
     ]
    }
   ],
   "source": [
    "%pip install pymysql        # !pip보다 %pip를 권장"
   ]
  },
  {
   "cell_type": "code",
   "execution_count": 32,
   "metadata": {},
   "outputs": [],
   "source": [
    "import pymysql"
   ]
  },
  {
   "cell_type": "code",
   "execution_count": 33,
   "metadata": {},
   "outputs": [],
   "source": [
    "with open('./db_config', 'r') as f:\n",
    "    config = f.readlines()"
   ]
  },
  {
   "cell_type": "code",
   "execution_count": 34,
   "metadata": {},
   "outputs": [
    {
     "data": {
      "text/plain": [
       "{'host': 'localhost',\n",
       " 'port': 3307,\n",
       " 'user': 'leoni',\n",
       " 'password': 'password',\n",
       " 'database': 'study',\n",
       " 'charset': 'utf8mb4'}"
      ]
     },
     "execution_count": 34,
     "metadata": {},
     "output_type": "execute_result"
    }
   ],
   "source": [
    "config_dict = {}\n",
    "for l in config:\n",
    "    # k, v = l.split('=')         # =을 기준으로 key, value 분리\n",
    "    idx = l.index('=')\n",
    "    k = l[:idx]\n",
    "    v = l[idx+1:]\n",
    "    config_dict[k] = v.strip()  # 공백 문자 제거 후 config_dict의 key 별로 value 지정\n",
    "config_dict[\"port\"] = 3307\n",
    "config_dict"
   ]
  },
  {
   "cell_type": "code",
   "execution_count": 35,
   "metadata": {},
   "outputs": [],
   "source": [
    "# config file 불러오는 함수\n",
    "\n",
    "def read_config(p:str) -> dict:     # 코드 가독성을 위해 type 명시\n",
    "    \"\"\"\n",
    "    p: config file 경로\n",
    "    \"\"\"\n",
    "    with open(p, 'r') as f:\n",
    "        lines = f.readlines()\n",
    "    config_dict = {}\n",
    "\n",
    "    for l in lines:\n",
    "        idx = l.index('=')\n",
    "        k = l[:idx]\n",
    "        v = l[idx+1:]\n",
    "        config_dict[k] = v.strip()\n",
    "    config_dict[\"port\"] = 3307\n",
    "    \n",
    "    return config_dict"
   ]
  },
  {
   "cell_type": "code",
   "execution_count": 45,
   "metadata": {},
   "outputs": [
    {
     "data": {
      "text/plain": [
       "{'host': 'localhost',\n",
       " 'port': 3307,\n",
       " 'user': 'leoni',\n",
       " 'password': 'password',\n",
       " 'database': 'study',\n",
       " 'charset': 'utf8mb4'}"
      ]
     },
     "execution_count": 45,
     "metadata": {},
     "output_type": "execute_result"
    }
   ],
   "source": [
    "db_config = read_config('./db_config')\n",
    "db_config"
   ]
  },
  {
   "cell_type": "code",
   "execution_count": 46,
   "metadata": {},
   "outputs": [
    {
     "name": "stdout",
     "output_type": "stream",
     "text": [
      "연결 성공\n"
     ]
    }
   ],
   "source": [
    "try:\n",
    "    # conn = pymysql.connect(\n",
    "    #     host=\"localhost\",\n",
    "    #     port=3307,\n",
    "    #     user=\"leoni\",\n",
    "    #     password=\"password\",\n",
    "    #     database=\"study\",\n",
    "    #     charset=\"utf8mb4\"\n",
    "    # )\n",
    "    conn = pymysql.connect(**db_config)\n",
    "    # conn = pymysql.connect(**config_dict)\n",
    "    print(\"연결 성공\")\n",
    "except Exception as e:\n",
    "    print(\"연결 실패\", e)"
   ]
  },
  {
   "cell_type": "code",
   "execution_count": 39,
   "metadata": {},
   "outputs": [
    {
     "data": {
      "text/plain": [
       "<pymysql.connections.Connection at 0x200cafe4c40>"
      ]
     },
     "execution_count": 39,
     "metadata": {},
     "output_type": "execute_result"
    }
   ],
   "source": [
    "conn"
   ]
  },
  {
   "attachments": {},
   "cell_type": "markdown",
   "metadata": {},
   "source": [
    "### INSERT"
   ]
  },
  {
   "cell_type": "code",
   "execution_count": 53,
   "metadata": {},
   "outputs": [],
   "source": [
    "# 방법 1 - execute 인자로 value 지정\n",
    "with conn.cursor() as cur:\n",
    "    sql = 'INSERT INTO `Students` (`Name`, `Age`, `Address`) VALUES (%s, %s, %s)'\n",
    "    cur.execute(sql, (\"손준현\", \"27\", \"서울\"))       # 인자 작성 시 tuple로 작성하기 !\n",
    "\n",
    "# 방법 2 - INSERT 쿼리문 내에서 value 지정\n",
    "with conn.cursor() as cur:\n",
    "    sql = 'INSERT INTO `Students` (`Name`, `Age`, `Address`) VALUES (\"손준현\", \"27\", \"서울\")'\n",
    "    cur.execute(sql)\n",
    "\n",
    "conn.commit()"
   ]
  },
  {
   "attachments": {},
   "cell_type": "markdown",
   "metadata": {},
   "source": [
    "### INSERT MANY"
   ]
  },
  {
   "cell_type": "code",
   "execution_count": 55,
   "metadata": {},
   "outputs": [],
   "source": [
    "with conn.cursor() as cur:\n",
    "    sql = 'INSERT INTO `Students` (`Name`) VALUES (%s)'\n",
    "    cur.executemany(sql, [(\"손흥민\", ), \n",
    "                             (\"김민재\", ), \n",
    "                             (\"이강인\", )])\n",
    "\n",
    "conn.commit()"
   ]
  },
  {
   "attachments": {},
   "cell_type": "markdown",
   "metadata": {},
   "source": [
    "### SELECT"
   ]
  },
  {
   "cell_type": "code",
   "execution_count": 56,
   "metadata": {},
   "outputs": [
    {
     "data": {
      "text/plain": [
       "((1, '홍길동', 30, '인천'),\n",
       " (2, '이연걸', 60, '서울'),\n",
       " (3, '이몽룡', 42, '대전'),\n",
       " (4, '성춘향', 27, '경기'),\n",
       " (5, '손준현', 27, '서울'),\n",
       " (9, '손흥민', None, None),\n",
       " (10, '김민재', None, None),\n",
       " (11, '이강인', None, None))"
      ]
     },
     "execution_count": 56,
     "metadata": {},
     "output_type": "execute_result"
    }
   ],
   "source": [
    "with conn.cursor() as cur:\n",
    "    sql = 'SELECT * FROM Students'\n",
    "    cur.execute(sql)\n",
    "    data = cur.fetchall()\n",
    "\n",
    "data"
   ]
  },
  {
   "cell_type": "code",
   "execution_count": 68,
   "metadata": {},
   "outputs": [
    {
     "data": {
      "text/plain": [
       "((1, '홍길동', 30, '인천'),\n",
       " (2, '이연걸', 60, '서울'),\n",
       " (3, '이몽룡', 42, '대전'),\n",
       " (4, '성춘향', 27, '경기'),\n",
       " (5, '손준현', 27, '서울'))"
      ]
     },
     "execution_count": 68,
     "metadata": {},
     "output_type": "execute_result"
    }
   ],
   "source": [
    "page_size = 5\n",
    "page = 1\n",
    "\n",
    "limit = page_size\n",
    "offset = page_size * (page - 1)\n",
    "\n",
    "with conn.cursor() as cur:\n",
    "    sql = 'SELECT * FROM Students LIMIT %s OFFSET %s'\n",
    "    cur.execute(sql, (limit, offset))        # LIMIT 5 OFFSET 0\n",
    "    data = cur.fetchall()\n",
    "\n",
    "data"
   ]
  },
  {
   "attachments": {},
   "cell_type": "markdown",
   "metadata": {},
   "source": [
    "### 페이지 번호에 따라 조회되는 데이터 출력하는 함수"
   ]
  },
  {
   "cell_type": "code",
   "execution_count": 69,
   "metadata": {},
   "outputs": [
    {
     "data": {
      "text/plain": [
       "((1, '홍길동', 30, '인천'),\n",
       " (2, '이연걸', 60, '서울'),\n",
       " (3, '이몽룡', 42, '대전'),\n",
       " (4, '성춘향', 27, '경기'),\n",
       " (5, '손준현', 27, '서울'))"
      ]
     },
     "execution_count": 69,
     "metadata": {},
     "output_type": "execute_result"
    }
   ],
   "source": [
    "def pagination(page, page_size=5):\n",
    "    limit = page_size\n",
    "    offset = page_size * (page - 1)\n",
    "\n",
    "    with conn.cursor() as cur:\n",
    "        sql = 'SELECT * FROM Students LIMIT %s OFFSET %s'\n",
    "        cur.execute(sql, (limit, offset))        # LIMIT 5 OFFSET 0\n",
    "        data = cur.fetchall()\n",
    "    return data\n",
    "\n",
    "page_one = pagination(1)\n",
    "page_one"
   ]
  },
  {
   "attachments": {},
   "cell_type": "markdown",
   "metadata": {},
   "source": [
    "### UPDATE"
   ]
  },
  {
   "cell_type": "code",
   "execution_count": 72,
   "metadata": {},
   "outputs": [],
   "source": [
    "with conn.cursor() as cur:\n",
    "    sql = 'UPDATE `Students` SET `Age`=%s WHERE `StudentID`=%s'\n",
    "    cur.execute(sql, (26, 5))    # 순서 중요!\n",
    "                   \n",
    "conn.commit()"
   ]
  },
  {
   "cell_type": "code",
   "execution_count": 74,
   "metadata": {},
   "outputs": [
    {
     "data": {
      "text/plain": [
       "((1, '홍길동', 30, '인천'),\n",
       " (2, '이연걸', 60, '서울'),\n",
       " (3, '이몽룡', 42, '대전'),\n",
       " (4, '성춘향', 28, '경기'),\n",
       " (5, '손준현', 26, '서울'))"
      ]
     },
     "execution_count": 74,
     "metadata": {},
     "output_type": "execute_result"
    }
   ],
   "source": [
    "pagination(1)"
   ]
  },
  {
   "cell_type": "code",
   "execution_count": 73,
   "metadata": {},
   "outputs": [],
   "source": [
    "with conn.cursor() as cur:\n",
    "    sql = 'UPDATE `Students` SET `Age`=%s WHERE `StudentID`=%s'\n",
    "    cur.executemany(sql, [\n",
    "        (26, 5),\n",
    "        (28, 4)\n",
    "        ])\n",
    "                   \n",
    "conn.commit()"
   ]
  },
  {
   "cell_type": "code",
   "execution_count": 77,
   "metadata": {},
   "outputs": [
    {
     "data": {
      "text/plain": [
       "((1, '홍길동', 30, '인천'),\n",
       " (2, '이연걸', 60, '서울'),\n",
       " (3, '이몽룡', 42, '대전'),\n",
       " (4, '성춘향', 28, '경기'),\n",
       " (5, '손준현', 26, '서울'),\n",
       " (6, '손흥민', None, None),\n",
       " (7, '김민재', None, None),\n",
       " (8, '이강인', None, None))"
      ]
     },
     "execution_count": 77,
     "metadata": {},
     "output_type": "execute_result"
    }
   ],
   "source": [
    "pagination(1, page_size=8)"
   ]
  },
  {
   "attachments": {},
   "cell_type": "markdown",
   "metadata": {},
   "source": [
    "### DELETE"
   ]
  },
  {
   "cell_type": "code",
   "execution_count": 78,
   "metadata": {},
   "outputs": [],
   "source": [
    "with conn.cursor() as cur:\n",
    "    sql = 'DELETE FROM `Students` WHERE `StudentID`=%s'\n",
    "    cur.execute(sql, (1, ))     # StudentID가 1인 행 삭제\n",
    "\n",
    "conn.commit()"
   ]
  },
  {
   "cell_type": "code",
   "execution_count": 79,
   "metadata": {},
   "outputs": [],
   "source": [
    "with conn.cursor() as cur:\n",
    "    sql = 'DELETE FROM `Students` WHERE `StudentID` IN (%s, %s, %s)'\n",
    "    cur.execute(sql, (2, 3, 4))     # StudentID가 2, 3, 4인 행 삭제\n",
    "\n",
    "conn.commit()\n",
    "\n",
    "# Foreign Key 제약 조건 해제\n",
    "# SET FOREIGN_KEY_CHECKS = 0;"
   ]
  },
  {
   "cell_type": "code",
   "execution_count": 80,
   "metadata": {},
   "outputs": [
    {
     "data": {
      "text/plain": [
       "((5, '손준현', 26, '서울'),\n",
       " (6, '손흥민', None, None),\n",
       " (7, '김민재', None, None),\n",
       " (8, '이강인', None, None))"
      ]
     },
     "execution_count": 80,
     "metadata": {},
     "output_type": "execute_result"
    }
   ],
   "source": [
    "pagination(1)"
   ]
  },
  {
   "cell_type": "code",
   "execution_count": null,
   "metadata": {},
   "outputs": [],
   "source": [
    "def delete(target_ids:list):\n",
    "    with conn.cursor() as cur:\n",
    "        sql = 'DELETE FROM `Students` WHERE `StudentID` IN (' + ','.join(['%s'] * len(target_ids)) + ')'    # [%s] * 지울 StudentID 개수 이후 ','를 기준으로 join\n",
    "        cur.execute(sql, target_ids)\n",
    "\n",
    "    conn.commit()\n",
    "    return "
   ]
  },
  {
   "attachments": {},
   "cell_type": "markdown",
   "metadata": {},
   "source": [
    "#### ※ 테이블 or 칼럼 이름에 ` (Backtick) 사용하는 이유: 예약어(ex. Order, etc.)가 아닌 테이블 or 칼럼으로 쓰기 위해"
   ]
  },
  {
   "attachments": {},
   "cell_type": "markdown",
   "metadata": {},
   "source": [
    "### 실습 (PyMySQL)"
   ]
  },
  {
   "attachments": {},
   "cell_type": "markdown",
   "metadata": {},
   "source": [
    "- db에 student 테이블을 생성해주세요.\n",
    "    - id (빈 값 허용 안함, 자동 증가)\n",
    "    - name (최대 16글자)\n",
    "    - email (최대 32글자)\n",
    "    - phone (최대 16글자)\n",
    "    - major (최대 16글자)"
   ]
  },
  {
   "cell_type": "code",
   "execution_count": 114,
   "metadata": {},
   "outputs": [],
   "source": [
    "with conn.cursor() as cur:\n",
    "    sql = \"\"\"CREATE TABLE `Student` (\n",
    "    ID INT NOT NULL AUTO_INCREMENT,\n",
    "    Name VARCHAR(16),\n",
    "    Email VARCHAR(32),\n",
    "    Phone VARCHAR(16),\n",
    "    Major VARCHAR(16),\n",
    "    PRIMARY KEY(ID)\n",
    "    )\"\"\"\n",
    "    cur.execute(sql)\n",
    "\n",
    "conn.commit()"
   ]
  },
  {
   "attachments": {},
   "cell_type": "markdown",
   "metadata": {},
   "source": [
    "- 수강생 중 한 분의 데이터를 DB에 입력해주세요."
   ]
  },
  {
   "cell_type": "code",
   "execution_count": 116,
   "metadata": {},
   "outputs": [],
   "source": [
    "# 내 풀이\n",
    "with conn.cursor() as cur:\n",
    "    sql = 'INSERT INTO `Student` (`Name`, `Email`, `Phone`, `Major`) VALUES (\"손준현\", \"leonica0429@gmail.com\", \"010123455678\", \"ISE\")'\n",
    "    cur.execute(sql)\n",
    "\n",
    "conn.commit()"
   ]
  },
  {
   "cell_type": "code",
   "execution_count": 132,
   "metadata": {},
   "outputs": [],
   "source": [
    "# 강사님 풀이\n",
    "table_name = \"Student\"\n",
    "columns = ['Name', 'Email', 'Phone', 'Major']\n",
    "values = (\"손준현\", \"leonica0429@gmail.com\", \"01012345678\", \"ISE\")\n",
    "\n",
    "with conn.cursor() as cur:\n",
    "    sql = 'INSERT INTO {}({}) VALUES ({})'.format(table_name, ','.join(columns), ','.join(['%s'] * len(values)))\n",
    "    cur.execute(sql, values)\n",
    "\n",
    "conn.commit()"
   ]
  },
  {
   "cell_type": "code",
   "execution_count": null,
   "metadata": {},
   "outputs": [],
   "source": [
    "# 함수화\n",
    "def insert(table_name, columns, values):\n",
    "    with conn.cursor() as cur:\n",
    "        sql = 'INSERT INTO {}({}) VALUES ({})'.format(table_name, ','.join(columns), ','.join(['%s'] * len(values)))\n",
    "        cur.execute(sql, values)\n",
    "\n",
    "    conn.commit()"
   ]
  },
  {
   "attachments": {},
   "cell_type": "markdown",
   "metadata": {},
   "source": [
    "- 수강생 중 네 분의 데이터를 DB에 동시에 추가해주세요."
   ]
  },
  {
   "cell_type": "code",
   "execution_count": 87,
   "metadata": {},
   "outputs": [],
   "source": [
    "with conn.cursor() as cur:\n",
    "    sql = 'INSERT INTO `Student` (`Name`) VALUES (%s)'\n",
    "    cur.executemany(sql, [\n",
    "        (\"김도훈\"),\n",
    "        (\"이정현\"),\n",
    "        (\"주환희\"),\n",
    "        (\"박정은\")\n",
    "    ])\n",
    "\n",
    "conn.commit()"
   ]
  },
  {
   "cell_type": "code",
   "execution_count": 133,
   "metadata": {},
   "outputs": [],
   "source": [
    "# 강사님 풀이\n",
    "table_name = \"Student\"\n",
    "columns = ['Name', 'Email', 'Phone', 'Major']\n",
    "values = [\n",
    "    (\"김도훈\", \"abc123@gmail.com\", \"01011112222\", \"ABC\"),\n",
    "    (\"이정현\", \"def123@gmail.com\", \"01033334444\", \"DEF\"),\n",
    "    (\"주환희\", \"ghi123@gmail.com\", \"01055556666\", \"GHI\"),\n",
    "    (\"박정은\", \"jkl123@gmail.com\", \"01077778888\", \"JKL\")\n",
    "]\n",
    "\n",
    "with conn.cursor() as cur:\n",
    "    sql = 'INSERT INTO {}({}) VALUES ({})'.format(table_name, ','.join(columns), ','.join(['%s'] * len(values[0])))\n",
    "    cur.executemany(sql, values)\n",
    "\n",
    "conn.commit()"
   ]
  },
  {
   "cell_type": "code",
   "execution_count": null,
   "metadata": {},
   "outputs": [],
   "source": [
    "# 함수화\n",
    "def insert_many(table_name:str, columns:list, values=list):\n",
    "    with conn.cursor() as cur:\n",
    "        sql = 'INSERT INTO {}({}) VALUES ({})'.format(table_name, ','.join(columns), ','.join(['%s'] * len(values[0])))\n",
    "        cur.executemany(sql, values)\n",
    "\n",
    "    conn.commit()"
   ]
  },
  {
   "attachments": {},
   "cell_type": "markdown",
   "metadata": {},
   "source": [
    "- 입력한 전체 데이터를 확인해주세요."
   ]
  },
  {
   "cell_type": "code",
   "execution_count": 88,
   "metadata": {},
   "outputs": [
    {
     "data": {
      "text/plain": [
       "((1, '손준현', 'leonica0429@gmail.com', '010123455678', 'ISE'),\n",
       " (2, '김도훈', None, None, None),\n",
       " (3, '이정현', None, None, None),\n",
       " (4, '주환희', None, None, None),\n",
       " (5, '박정은', None, None, None))"
      ]
     },
     "execution_count": 88,
     "metadata": {},
     "output_type": "execute_result"
    }
   ],
   "source": [
    "with conn.cursor() as cur:\n",
    "    sql = 'SELECT * FROM Student'\n",
    "    cur.execute(sql)\n",
    "    data = cur.fetchall()\n",
    "\n",
    "data"
   ]
  },
  {
   "cell_type": "code",
   "execution_count": 134,
   "metadata": {},
   "outputs": [
    {
     "data": {
      "text/plain": [
       "((1, '손준현', 'leonica0429@gmail.com', '01012345678', 'ISE'),\n",
       " (2, '김도훈', 'abc123@gmail.com', '01011112222', 'ABC'),\n",
       " (3, '이정현', 'def123@gmail.com', '01033334444', 'DEF'),\n",
       " (4, '주환희', 'ghi123@gmail.com', '01055556666', 'GHI'),\n",
       " (5, '박정은', 'jkl123@gmail.com', '01077778888', 'JKL'))"
      ]
     },
     "execution_count": 134,
     "metadata": {},
     "output_type": "execute_result"
    }
   ],
   "source": [
    "# 강사님 풀이\n",
    "columns = ['ID', 'Name']\n",
    "columns = ['*']\n",
    "table_name = \"Student\"\n",
    "\n",
    "with conn.cursor() as cur:\n",
    "    sql = \"SELECT {} FROM {}\".format(','.join(columns), table_name)\n",
    "    cur.execute(sql)\n",
    "    data = cur.fetchall()\n",
    "\n",
    "data"
   ]
  },
  {
   "attachments": {},
   "cell_type": "markdown",
   "metadata": {},
   "source": [
    "- 한 수강생분의 이메일이 잘못 입력되었다고 가정하고, 이메일을 수정, DB에 반영해주세요."
   ]
  },
  {
   "cell_type": "code",
   "execution_count": 94,
   "metadata": {},
   "outputs": [],
   "source": [
    "with conn.cursor() as cur:\n",
    "    sql = 'UPDATE `Student` SET `Email`=%s WHERE `ID`=%s'\n",
    "    cur.execute(sql, (\"abc123@gmail.com\", 2))\n",
    "\n",
    "conn.commit()"
   ]
  },
  {
   "cell_type": "code",
   "execution_count": 135,
   "metadata": {},
   "outputs": [],
   "source": [
    "# 강사님 풀이\n",
    "table_name = 'Student'\n",
    "set_column = \"Email\"\n",
    "set_value = \"abc1234@gmail.com\"\n",
    "where_column = \"ID\"\n",
    "where_value = 2\n",
    "\n",
    "with conn.cursor() as cur:\n",
    "    sql = 'UPDATE {} SET {}=%s WHERE {}={}'.format(table_name, set_column, set_value, where_column, where_value)\n",
    "    cur.execute(sql, (set_value, ))\n",
    "\n",
    "conn.commit()"
   ]
  },
  {
   "attachments": {},
   "cell_type": "markdown",
   "metadata": {},
   "source": [
    "- 수강생 한 분이 취업하셨습니다. DB에서 삭제 해주세요."
   ]
  },
  {
   "cell_type": "code",
   "execution_count": 137,
   "metadata": {},
   "outputs": [],
   "source": [
    "table_name = \"Student\"\n",
    "where_column = \"ID\"\n",
    "where_value = 4\n",
    "with conn.cursor() as cur:\n",
    "    sql = 'DELETE FROM {} WHERE {}={}'.format(table_name, where_column, where_value)\n",
    "    cur.execute(sql)\n",
    "\n",
    "conn.commit()"
   ]
  },
  {
   "attachments": {},
   "cell_type": "markdown",
   "metadata": {},
   "source": [
    "### 클래스화"
   ]
  },
  {
   "attachments": {},
   "cell_type": "markdown",
   "metadata": {},
   "source": [
    "- 생성 시 정보를 입력받아 DB에 연결하는 클래스를 생성해주세요."
   ]
  },
  {
   "cell_type": "code",
   "execution_count": 123,
   "metadata": {},
   "outputs": [],
   "source": [
    "class MariaDB:\n",
    "    \"\"\"\n",
    "    MariaDB를 관리하는 클래스입니다.\n",
    "    \"\"\"\n",
    "\n",
    "    def __init__(self, host, user, password, database, charset, port):\n",
    "        self.host = host\n",
    "        self.port = int(port)\n",
    "\n",
    "        \"다른 함수에서 사용하기 위해 self에 담아준다.\"\n",
    "        try:\n",
    "            self.conn = pymysql.connect(\n",
    "                                        host=host,\n",
    "                                        user=user,\n",
    "                                        password=password,\n",
    "                                        database=database,\n",
    "                                        charset=charset,\n",
    "                                        port=port)\n",
    "            print(\"연결 성공\")\n",
    "        except Exception as e:\n",
    "            print(\"연결 실패\", e)\n",
    "        \n",
    "        return True\n",
    "    \n",
    "    def insert(self, table_name:str, columns:list, values:list):\n",
    "        with self.conn.cursor() as cur:\n",
    "            sql = 'INSERT INTO {}({}) VALUES ({})'.format(\n",
    "                table_name, ','.join(columns), ','.join(['%s'] * len(values)))\n",
    "            cur.execute(sql, values)\n",
    "\n",
    "        self.conn.commit()\n",
    "        return True\n",
    "    \n",
    "    def insert_many(self, table_name:str, columns:list, values:list):\n",
    "        with self.conn.cursor() as cur:\n",
    "            sql = 'INSERT INTO {}({}) VALUES ({})'.format(\n",
    "                table_name, ','.join(columns), ','.join(['%s'] * len(values[0])))\n",
    "            cur.executemany(sql, values)\n",
    "\n",
    "        self.conn.commit()\n",
    "        return True\n",
    "    \n",
    "    def select(self, table_name:str, columns:list, page=None, page_size=10):    # pagination 함수 추가\n",
    "        if page:    # 페이지 있을 때,\n",
    "            limit = page_size\n",
    "            offset = page_size * (page - 1)\n",
    "            with self.conn.cursor() as cur:\n",
    "                sql = 'SELECT {} FROM {} LIMIT %s OFFSET %s'.format(\n",
    "                    ','.join(columns), table_name)\n",
    "                cur.execute(sql, (limit, offset))\n",
    "                data = cur.fetchall()\n",
    "        else:\n",
    "            with self.conn.cursor() as cur:\n",
    "                sql = 'SELECT {} FROM {}'.format(\n",
    "                    ','.join(columns), table_name)         # SELECT \"\" FROM \"\" 부분 겹치므로 CONCAT()으로도 처리 가능\n",
    "                cur.execute(sql)\n",
    "                data = cur.fetchall()\n",
    "        return data\n",
    "    \n",
    "    def update(self, table_name:str, set_column:list, set_value:str, where_column:str, where_value:str):\n",
    "        with self.conn.cursor() as cur:\n",
    "            sql = 'UPDATE {} SET {}=%s WHERE {}=%s'.format(\n",
    "                table_name, set_column, where_column, where_value)\n",
    "            cur.execute(sql, (set_value, where_value))\n",
    "\n",
    "        self.conn.commit()\n",
    "        return True"
   ]
  },
  {
   "cell_type": "code",
   "execution_count": 129,
   "metadata": {},
   "outputs": [
    {
     "name": "stdout",
     "output_type": "stream",
     "text": [
      "연결 성공\n",
      "연결 성공\n"
     ]
    }
   ],
   "source": [
    "# 연결 테스트\n",
    "db = MariaDB(**db_config)   # test\n",
    "db1 = MariaDB(**db_config)  # production"
   ]
  },
  {
   "cell_type": "code",
   "execution_count": null,
   "metadata": {},
   "outputs": [],
   "source": [
    "# insert 테스트\n",
    "db.insert()"
   ]
  },
  {
   "cell_type": "code",
   "execution_count": null,
   "metadata": {},
   "outputs": [],
   "source": [
    "# insert_many 테스트\n",
    "db.insert_many()"
   ]
  },
  {
   "cell_type": "code",
   "execution_count": null,
   "metadata": {},
   "outputs": [],
   "source": [
    "# select 테스트\n",
    "db.select()"
   ]
  },
  {
   "cell_type": "code",
   "execution_count": null,
   "metadata": {},
   "outputs": [],
   "source": [
    "# update 테스트\n",
    "db.update()"
   ]
  }
 ],
 "metadata": {
  "kernelspec": {
   "display_name": "base",
   "language": "python",
   "name": "python3"
  },
  "language_info": {
   "codemirror_mode": {
    "name": "ipython",
    "version": 3
   },
   "file_extension": ".py",
   "mimetype": "text/x-python",
   "name": "python",
   "nbconvert_exporter": "python",
   "pygments_lexer": "ipython3",
   "version": "3.9.16"
  },
  "orig_nbformat": 4
 },
 "nbformat": 4,
 "nbformat_minor": 2
}
