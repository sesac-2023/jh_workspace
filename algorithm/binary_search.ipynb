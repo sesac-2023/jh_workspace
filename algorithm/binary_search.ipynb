{
 "cells": [
  {
   "attachments": {},
   "cell_type": "markdown",
   "metadata": {},
   "source": [
    "## 이진 탐색"
   ]
  },
  {
   "attachments": {},
   "cell_type": "markdown",
   "metadata": {},
   "source": [
    "### 예제: BinarySearch 재귀함수 구현"
   ]
  },
  {
   "cell_type": "code",
   "execution_count": 15,
   "metadata": {},
   "outputs": [],
   "source": [
    "def binary_search(target_value, start_idx, end_idx, array):\n",
    "    # step 1. start_idx가 end_idx보다 큰 경우, 못 찾았다는 것\n",
    "    print(f\"종료조건?: {start_idx}, {end_idx}\")\n",
    "    if start_idx > end_idx:\n",
    "        return -1\n",
    "    \n",
    "    # step 2. mid_idx 계산\n",
    "    mid_idx = (start_idx + end_idx) // 2\n",
    "    \n",
    "    mid_value = array[mid_idx]\n",
    "\n",
    "    print(f\"현재 탐색 범위: {start_idx}, {end_idx}, {mid_idx}\")\n",
    "    \n",
    "    # 중앙값이 목표값과 같은 경우,\n",
    "    if mid_value == target_value:\n",
    "        return mid_idx  # 해당 index 반환\n",
    "    \n",
    "    # 중앙값이 목표값보다 큰 경우,\n",
    "    elif mid_value > target_value:\n",
    "        return binary_search(target_value, start_idx, mid_idx-1, array)\n",
    "    \n",
    "    # 중앙값이 목표값보다 작은 경우,\n",
    "    else:\n",
    "        return binary_search(target_value, mid_idx+1, end_idx, array)"
   ]
  },
  {
   "cell_type": "code",
   "execution_count": 18,
   "metadata": {},
   "outputs": [
    {
     "name": "stdout",
     "output_type": "stream",
     "text": [
      "종료조건?: 0, 99\n",
      "현재 탐색 범위: 0, 99, 49\n",
      "종료조건?: 50, 99\n",
      "현재 탐색 범위: 50, 99, 74\n",
      "종료조건?: 75, 99\n",
      "현재 탐색 범위: 75, 99, 87\n",
      "종료조건?: 88, 99\n",
      "현재 탐색 범위: 88, 99, 93\n",
      "종료조건?: 94, 99\n",
      "현재 탐색 범위: 94, 99, 96\n",
      "종료조건?: 97, 99\n",
      "현재 탐색 범위: 97, 99, 98\n",
      "종료조건?: 99, 99\n",
      "현재 탐색 범위: 99, 99, 99\n",
      "종료조건?: 100, 99\n"
     ]
    },
    {
     "data": {
      "text/plain": [
       "-1"
      ]
     },
     "execution_count": 18,
     "metadata": {},
     "output_type": "execute_result"
    }
   ],
   "source": [
    "temp = list(range(100)) # 0~100까지 정렬된 배열\n",
    "target_value = 120   # 찾는 값\n",
    "idx = binary_search(target_value, 0, len(temp)-1, temp)   # 찾았을 때의 index 값\n",
    "idx"
   ]
  },
  {
   "cell_type": "code",
   "execution_count": null,
   "metadata": {},
   "outputs": [],
   "source": []
  }
 ],
 "metadata": {
  "kernelspec": {
   "display_name": "base",
   "language": "python",
   "name": "python3"
  },
  "language_info": {
   "codemirror_mode": {
    "name": "ipython",
    "version": 3
   },
   "file_extension": ".py",
   "mimetype": "text/x-python",
   "name": "python",
   "nbconvert_exporter": "python",
   "pygments_lexer": "ipython3",
   "version": "3.9.16"
  },
  "orig_nbformat": 4
 },
 "nbformat": 4,
 "nbformat_minor": 2
}
