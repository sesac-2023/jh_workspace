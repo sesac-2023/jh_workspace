{
 "cells": [
  {
   "attachments": {},
   "cell_type": "markdown",
   "metadata": {},
   "source": [
    "## 삽입 정렬"
   ]
  },
  {
   "cell_type": "code",
   "execution_count": 31,
   "metadata": {},
   "outputs": [],
   "source": [
    "def solution(array: list):\n",
    "    print(array)\n",
    "    # 1) 내가 정렬할 index를 설정한다. 0번째는 확인할 필요가 없으므로, 1부터 시작한다.\n",
    "\n",
    "    for i in range(1, len(array)):\n",
    "        # 2) 내 앞의 있는 배열을 가장 가까운 곳부터 먼 곳으로 대소비교한다.\n",
    "        # range(내 앞의 값부터, -1까지 = 0까지, 1씩 감소)\n",
    "        for j in range(i-1, 0-1, -1):\n",
    "            now_value = array[i] # 현재 값\n",
    "            target_value = array[j] # 비교 대상 값\n",
    "\n",
    "            # 2-1) 나보다 값이 클 경우, 해당 위치의 값과 내 위치의 값을 서로 교환한다.\n",
    "            # 2-2) 나보다 값이 작거나 같을 경우, 교환하지 않고 현재 회차를 종료한다.\n",
    "            if target_value > now_value:\n",
    "                array[i], array[j] = array[j], array[i] # 값 교환 pythonic\n",
    "                i = j # 현재 index를 j로 변경 (앞으로 이동)\n",
    "            else:\n",
    "                break\n",
    "\n",
    "        print(array)\n",
    "\n",
    "    # 3) 정렬을 시작할 index를 1 증가시키고, 2)의 과정을 반복한다.\n",
    "    # 4) 배열의 맨 마지막 index까지 진행하고, 정렬된 배열을 반환한다.\n",
    "\n",
    "    return array"
   ]
  },
  {
   "cell_type": "code",
   "execution_count": 32,
   "metadata": {},
   "outputs": [
    {
     "name": "stdout",
     "output_type": "stream",
     "text": [
      "[3, 0, 1, 8, 7, 2, 5, 4, 9, 6]\n",
      "[0, 3, 1, 8, 7, 2, 5, 4, 9, 6]\n",
      "[0, 1, 3, 8, 7, 2, 5, 4, 9, 6]\n",
      "[0, 1, 3, 8, 7, 2, 5, 4, 9, 6]\n",
      "[0, 1, 3, 7, 8, 2, 5, 4, 9, 6]\n",
      "[0, 1, 2, 3, 7, 8, 5, 4, 9, 6]\n",
      "[0, 1, 2, 3, 5, 7, 8, 4, 9, 6]\n",
      "[0, 1, 2, 3, 4, 5, 7, 8, 9, 6]\n",
      "[0, 1, 2, 3, 4, 5, 7, 8, 9, 6]\n",
      "[0, 1, 2, 3, 4, 5, 6, 7, 8, 9]\n",
      "테스트 성공\n"
     ]
    }
   ],
   "source": [
    "if solution([3, 0, 1, 8, 7, 2, 5, 4, 9, 6]) == list(range(10)):\n",
    "    print(\"테스트 성공\")\n",
    "else:\n",
    "    print(\"테스트 실패\")"
   ]
  },
  {
   "cell_type": "code",
   "execution_count": 29,
   "metadata": {},
   "outputs": [],
   "source": [
    "def solution(array):\n",
    "    print(array)\n",
    "    # 1번 인덱스부터 맨 끝 인덱스까지 비교\n",
    "    for i in range(1, len(array)):\n",
    "        # 비교 시작 지점 인덱스부터 1번 인덱스까지 거슬러 올라가면서 대소비교\n",
    "        for j in range(i, 0, -1):\n",
    "            # 앞 자리가 더 크면 앞뒤 교환\n",
    "            if array[j] < array[j-1]:\n",
    "                array[j], array[j-1] = array[j-1], array[j]\n",
    "            # 그렇지 않으면, 다음 인덱스 비교 시작\n",
    "            else:\n",
    "                break\n",
    "        print(array)\n",
    "    return array"
   ]
  },
  {
   "cell_type": "code",
   "execution_count": 30,
   "metadata": {},
   "outputs": [
    {
     "name": "stdout",
     "output_type": "stream",
     "text": [
      "[3, 0, 1, 8, 7, 2, 5, 4, 9, 6]\n",
      "[0, 3, 1, 8, 7, 2, 5, 4, 9, 6]\n",
      "[0, 1, 3, 8, 7, 2, 5, 4, 9, 6]\n",
      "[0, 1, 3, 8, 7, 2, 5, 4, 9, 6]\n",
      "[0, 1, 3, 7, 8, 2, 5, 4, 9, 6]\n",
      "[0, 1, 2, 3, 7, 8, 5, 4, 9, 6]\n",
      "[0, 1, 2, 3, 5, 7, 8, 4, 9, 6]\n",
      "[0, 1, 2, 3, 4, 5, 7, 8, 9, 6]\n",
      "[0, 1, 2, 3, 4, 5, 7, 8, 9, 6]\n",
      "[0, 1, 2, 3, 4, 5, 6, 7, 8, 9]\n",
      "테스트 성공\n"
     ]
    }
   ],
   "source": [
    "if solution([3, 0, 1, 8, 7, 2, 5, 4, 9, 6]) == list(range(10)):\n",
    "    print(\"테스트 성공\")\n",
    "else:\n",
    "    print(\"테스트 실패\")"
   ]
  },
  {
   "attachments": {},
   "cell_type": "markdown",
   "metadata": {},
   "source": [
    "## 선택 정렬"
   ]
  },
  {
   "cell_type": "code",
   "execution_count": 11,
   "metadata": {},
   "outputs": [],
   "source": [
    "# 아이디어가 마땅하게 떠오르지 않아 이코테 코드 복붙...\n",
    "def solution(array):\n",
    "    print(array)\n",
    "    for i in range(len(array)):\n",
    "        # 가장 작은 데이터의 인덱스\n",
    "        min_idx = i\n",
    "    \n",
    "        for j in range(i+1, len(array)):\n",
    "            # 최솟값 탐색 후 자리 변경\n",
    "            if array[min_idx] > array[j]:\n",
    "                min_idx = j\n",
    "        array[i], array[min_idx] = array[min_idx], array[i]\n",
    "\n",
    "        print(array)\n",
    "    return array"
   ]
  },
  {
   "cell_type": "code",
   "execution_count": 33,
   "metadata": {},
   "outputs": [],
   "source": [
    "# 용훈 님, 형석 님의 코드에서 리스트 슬라이싱 인사이트를 얻고 구현\n",
    "def solution(array):\n",
    "    print(array)\n",
    "    for i in range(len(array)):\n",
    "        # 배열의 i번째 인덱스부터 마지막 값 중 최솟값 탐색\n",
    "        min_val = min(array[i:])\n",
    "\n",
    "        # 최솟값에 해당하는 인덱스 j에 할당 후 자리 변경\n",
    "        j = i + array[i:].index(min_val)\n",
    "        # j = array.index(min_val)    # 주의 ! 중복값이 있을 경우 작동 안함\n",
    "        \n",
    "        array[i], array[j] = array[j], array[i]\n",
    "        print(array)\n",
    "    return(array)"
   ]
  },
  {
   "cell_type": "code",
   "execution_count": 37,
   "metadata": {},
   "outputs": [],
   "source": [
    "# 강사님 풀이 1\n",
    "def solution(array):\n",
    "    # 0번째 인덱스부터 해당 위치에 들어갈 값 탐색\n",
    "    # (마지막 -1번째 때 정렬 완료)\n",
    "    for i in range(len(array) - 1):\n",
    "        # i번째 인덱스부터 끝까지 배열을 확인해서 가장 작은 값과 해당 값의 인덱스 탐색\n",
    "        min_value = array[i]\n",
    "        min_index = i\n",
    "        for j, v in enumerate(array[i+1:], start=i+1):\n",
    "            if v < min_value:\n",
    "                min_value = v\n",
    "                min_index = j\n",
    "\n",
    "        # 해당 위치를 가장 작은 값과 교환\n",
    "        array[i], array[min_index] = array[min_index], array[i]\n",
    "        print(array)\n",
    "    return array\n"
   ]
  },
  {
   "cell_type": "code",
   "execution_count": 41,
   "metadata": {},
   "outputs": [],
   "source": [
    "# 강사님 풀이 2\n",
    "def solution(array):\n",
    "    # 큰 값부터 맨 끝에 정렬\n",
    "\n",
    "    # 역순 정렬\n",
    "    for i in range(len(array)-1, 0, -1):\n",
    "        max_value = array[i]\n",
    "        max_index = i\n",
    "\n",
    "        # 정렬된 곳 앞에까지만 확인\n",
    "        for j, v in enumerate(array[:i], start=0):\n",
    "            if v > max_value:\n",
    "                max_value = v\n",
    "                max_index = j\n",
    "\n",
    "        array[i], array[max_index] = array[max_index], array[i]\n",
    "    return array"
   ]
  },
  {
   "cell_type": "code",
   "execution_count": 42,
   "metadata": {},
   "outputs": [
    {
     "name": "stdout",
     "output_type": "stream",
     "text": [
      "테스트 성공\n"
     ]
    }
   ],
   "source": [
    "if solution([3, 0, 1, 8, 7, 2, 5, 4, 9, 6]) == list(range(10)):\n",
    "    print(\"테스트 성공\")\n",
    "else:\n",
    "    print(\"테스트 실패\")"
   ]
  },
  {
   "attachments": {},
   "cell_type": "markdown",
   "metadata": {},
   "source": [
    "## 버블 정렬"
   ]
  },
  {
   "cell_type": "code",
   "execution_count": 23,
   "metadata": {},
   "outputs": [],
   "source": [
    "def solution(array):\n",
    "    print(array)\n",
    "    for i in range(len(array)):\n",
    "        # 배열의 총 크기에서 i의 값과 1을 뺀 만큼 반복\n",
    "        for j in range(0, len(array)-i-1):\n",
    "            # 만약 현재 인덱스의 값이 다음 인덱스의 값보다 클 경우, 두 값 swap\n",
    "            if array[j+1] < array[j]:\n",
    "                array[j+1], array[j] = array[j], array[j+1]\n",
    "                print(array)\n",
    "        print(array)\n",
    "    return array"
   ]
  },
  {
   "cell_type": "code",
   "execution_count": 24,
   "metadata": {},
   "outputs": [
    {
     "name": "stdout",
     "output_type": "stream",
     "text": [
      "[3, 0, 1, 8, 7, 2, 5, 4, 9, 6]\n",
      "[0, 3, 1, 8, 7, 2, 5, 4, 9, 6]\n",
      "[0, 1, 3, 8, 7, 2, 5, 4, 9, 6]\n",
      "[0, 1, 3, 7, 8, 2, 5, 4, 9, 6]\n",
      "[0, 1, 3, 7, 2, 8, 5, 4, 9, 6]\n",
      "[0, 1, 3, 7, 2, 5, 8, 4, 9, 6]\n",
      "[0, 1, 3, 7, 2, 5, 4, 8, 9, 6]\n",
      "[0, 1, 3, 7, 2, 5, 4, 8, 6, 9]\n",
      "[0, 1, 3, 7, 2, 5, 4, 8, 6, 9]\n",
      "[0, 1, 3, 2, 7, 5, 4, 8, 6, 9]\n",
      "[0, 1, 3, 2, 5, 7, 4, 8, 6, 9]\n",
      "[0, 1, 3, 2, 5, 4, 7, 8, 6, 9]\n",
      "[0, 1, 3, 2, 5, 4, 7, 6, 8, 9]\n",
      "[0, 1, 3, 2, 5, 4, 7, 6, 8, 9]\n",
      "[0, 1, 2, 3, 5, 4, 7, 6, 8, 9]\n",
      "[0, 1, 2, 3, 4, 5, 7, 6, 8, 9]\n",
      "[0, 1, 2, 3, 4, 5, 6, 7, 8, 9]\n",
      "[0, 1, 2, 3, 4, 5, 6, 7, 8, 9]\n",
      "[0, 1, 2, 3, 4, 5, 6, 7, 8, 9]\n",
      "[0, 1, 2, 3, 4, 5, 6, 7, 8, 9]\n",
      "[0, 1, 2, 3, 4, 5, 6, 7, 8, 9]\n",
      "[0, 1, 2, 3, 4, 5, 6, 7, 8, 9]\n",
      "[0, 1, 2, 3, 4, 5, 6, 7, 8, 9]\n",
      "[0, 1, 2, 3, 4, 5, 6, 7, 8, 9]\n",
      "[0, 1, 2, 3, 4, 5, 6, 7, 8, 9]\n",
      "테스트 성공\n"
     ]
    }
   ],
   "source": [
    "if solution([3, 0, 1, 8, 7, 2, 5, 4, 9, 6]) == list(range(10)):\n",
    "    print(\"테스트 성공\")\n",
    "else:\n",
    "    print(\"테스트 실패\")"
   ]
  },
  {
   "cell_type": "code",
   "execution_count": 11,
   "metadata": {},
   "outputs": [],
   "source": [
    "temp1 = [[0] * 4] * 4   # 같은 배열이 4번 복제\n",
    "temp1[1][1] = 5         # 1행 1열이 5인 배열이 4번 나타남"
   ]
  },
  {
   "cell_type": "code",
   "execution_count": 12,
   "metadata": {},
   "outputs": [
    {
     "data": {
      "text/plain": [
       "[[0, 5, 0, 0], [0, 5, 0, 0], [0, 5, 0, 0], [0, 5, 0, 0]]"
      ]
     },
     "execution_count": 12,
     "metadata": {},
     "output_type": "execute_result"
    }
   ],
   "source": [
    "temp1"
   ]
  },
  {
   "cell_type": "code",
   "execution_count": 15,
   "metadata": {},
   "outputs": [],
   "source": [
    "temp2 = [[0]*4 for _ in range(4)]   # [0, 0, 0, 0]인 배열이 4번 생성\n",
    "temp2[1][1] = 5                     # 전체 배열의 1행 1열 값이 5로 변경"
   ]
  },
  {
   "cell_type": "code",
   "execution_count": 16,
   "metadata": {},
   "outputs": [
    {
     "data": {
      "text/plain": [
       "[[0, 0, 0, 0], [0, 5, 0, 0], [0, 0, 0, 0], [0, 0, 0, 0]]"
      ]
     },
     "execution_count": 16,
     "metadata": {},
     "output_type": "execute_result"
    }
   ],
   "source": [
    "temp2"
   ]
  },
  {
   "attachments": {},
   "cell_type": "markdown",
   "metadata": {},
   "source": [
    "### K번째 수 (Lv.1)"
   ]
  },
  {
   "cell_type": "code",
   "execution_count": null,
   "metadata": {},
   "outputs": [],
   "source": [
    "def solution(array, commands):\n",
    "    answer = []\n",
    "    \n",
    "    for i, j, k in commands:\n",
    "        # step 1. 배열의 i번째(i-1 인덱스) 데이터부터 j번째(j-1 인덱스) 데이터까지 슬라이싱 후 정렬\n",
    "        # step 2. 정렬한 배열의 k번째(k-1 인덱스) 데이터를 리스트에 append\n",
    "        arr = sorted(array[i-1:j])[k-1]\n",
    "        answer.append(arr)\n",
    "\n",
    "        # 한 줄 코딩\n",
    "        # 1. list comprehension - return [sorted(array[i-1:j])[k-1] for i, j, k in commands]\n",
    "        # 2. map, lambda - return list(map(lambda x: sorted(array[x[0]-1:x[1]])[x[2]-1], commands))\n",
    "    return answer"
   ]
  },
  {
   "attachments": {},
   "cell_type": "markdown",
   "metadata": {},
   "source": [
    "### sorted vs sort"
   ]
  },
  {
   "cell_type": "code",
   "execution_count": 5,
   "metadata": {},
   "outputs": [],
   "source": [
    "temp = [3, 1, 5, 2, 9, 6]"
   ]
  },
  {
   "cell_type": "code",
   "execution_count": 8,
   "metadata": {},
   "outputs": [],
   "source": [
    "# sorted 함수는 return이 있음 -> 해당 배열을 정렬한 배열\n",
    "# 원본 변경 x\n",
    "sorted_temp = sorted(temp)"
   ]
  },
  {
   "cell_type": "code",
   "execution_count": 7,
   "metadata": {},
   "outputs": [
    {
     "data": {
      "text/plain": [
       "[3, 1, 5, 2, 9, 6]"
      ]
     },
     "execution_count": 7,
     "metadata": {},
     "output_type": "execute_result"
    }
   ],
   "source": [
    "temp"
   ]
  },
  {
   "cell_type": "code",
   "execution_count": 9,
   "metadata": {},
   "outputs": [],
   "source": [
    "# sort 메서드는 원본을 수정하고 정렬된 배열 반환 x\n",
    "sort_temp = temp.sort()"
   ]
  },
  {
   "cell_type": "code",
   "execution_count": 11,
   "metadata": {},
   "outputs": [
    {
     "name": "stdout",
     "output_type": "stream",
     "text": [
      "None\n"
     ]
    }
   ],
   "source": [
    "print(sort_temp)"
   ]
  },
  {
   "cell_type": "code",
   "execution_count": 12,
   "metadata": {},
   "outputs": [
    {
     "data": {
      "text/plain": [
       "[1, 2, 3, 5, 6, 9]"
      ]
     },
     "execution_count": 12,
     "metadata": {},
     "output_type": "execute_result"
    }
   ],
   "source": [
    "temp"
   ]
  },
  {
   "cell_type": "code",
   "execution_count": null,
   "metadata": {},
   "outputs": [],
   "source": [
    "a = sorted(temp)[-3]\n",
    "b = temp.sort()[-3]"
   ]
  },
  {
   "cell_type": "code",
   "execution_count": 20,
   "metadata": {},
   "outputs": [],
   "source": [
    "def solution(array, commands):\n",
    "    answer = []\n",
    "\n",
    "    # command가 여러 번 들어온다.\n",
    "    for command in commands:\n",
    "        # command -> i, j, k (리스트 unpacking)\n",
    "        i, j, k = command\n",
    "    \n",
    "    # unpacking\n",
    "    # for i, j, k in commands:\n",
    "\n",
    "    # 요구하는 로직\n",
    "    # 1. array의 1번째부터 3번째까지 슬라이싱\n",
    "        temp = array[i-1:j]\n",
    "    # 2. 1에서 나온 배열을 정렬\n",
    "        temp.sort()\n",
    "    # 3. 2에서 나온 배열의 k번째 숫자\n",
    "        answer.append(temp[k-1])\n",
    "    return answer"
   ]
  },
  {
   "attachments": {},
   "cell_type": "markdown",
   "metadata": {},
   "source": [
    "### 가장 큰 수 (Lv.2)"
   ]
  },
  {
   "cell_type": "code",
   "execution_count": 21,
   "metadata": {},
   "outputs": [],
   "source": [
    "def solution(numbers):\n",
    "    # 리스트 안의 숫자들을 문자열로 형 변환하여 저장\n",
    "    numbers = list(map(str, numbers))\n",
    "\n",
    "    # 최대 양의 정수가 1000이므로 같은 문자열을 3번 출력하여 문자열의 사전 순서를 key 값으로 받아 정렬\n",
    "    numbers.sort(key=lambda x: x*3, reverse=True)\n",
    "\n",
    "    # step 1. 위의 규칙에 따라 정렬된 문자열 join\n",
    "    # step 2. 모든 값이 0일 때 문자열 그대로가 아닌 정수로 나오기 위해 int형으로 변환(ex. [0, 0, 0] -> \"000\" -> 0)\n",
    "    # step 3. 다시 문자열로 형 변환\n",
    "    return str(int(''.join(numbers)))"
   ]
  },
  {
   "attachments": {},
   "cell_type": "markdown",
   "metadata": {},
   "source": [
    "### H-Index (Lv.2)"
   ]
  },
  {
   "cell_type": "code",
   "execution_count": 22,
   "metadata": {},
   "outputs": [],
   "source": [
    "def solution(citations):\n",
    "    h_index = 0\n",
    "    # 인용 횟수 내림차순으로 정렬\n",
    "    citations.sort(reverse=True)\n",
    "    for i in range(len(citations)):\n",
    "\n",
    "        # 인용 횟수가 논문 순번보다 크다면 h-index + 1\n",
    "        if citations[i] >= i+1:\n",
    "            h_index += 1\n",
    "            \n",
    "        # 인용 횟수가 논문 순번보다 작아지면 반복문 stop \n",
    "        else:\n",
    "            break\n",
    "    return h_index"
   ]
  },
  {
   "cell_type": "code",
   "execution_count": 23,
   "metadata": {},
   "outputs": [],
   "source": [
    "# 다른 풀이\n",
    "def solution(citations):\n",
    "    citations.sort(reverse=True)\n",
    "    for idx, citation in enumerate(citations):\n",
    "        if idx >= citation:\n",
    "            return idx\n",
    "        \n",
    "    # 모든 인용 횟수가 논문 순번보다 크다면 논문 수 출력\n",
    "    return len(citations)"
   ]
  }
 ],
 "metadata": {
  "kernelspec": {
   "display_name": "base",
   "language": "python",
   "name": "python3"
  },
  "language_info": {
   "codemirror_mode": {
    "name": "ipython",
    "version": 3
   },
   "file_extension": ".py",
   "mimetype": "text/x-python",
   "name": "python",
   "nbconvert_exporter": "python",
   "pygments_lexer": "ipython3",
   "version": "3.9.16"
  },
  "orig_nbformat": 4
 },
 "nbformat": 4,
 "nbformat_minor": 2
}
