{
 "cells": [
  {
   "attachments": {},
   "cell_type": "markdown",
   "metadata": {},
   "source": [
    "## 삽입 정렬"
   ]
  },
  {
   "cell_type": "code",
   "execution_count": 31,
   "metadata": {},
   "outputs": [],
   "source": [
    "def solution(array: list):\n",
    "    print(array)\n",
    "    # 1) 내가 정렬할 index를 설정한다. 0번째는 확인할 필요가 없으므로, 1부터 시작한다.\n",
    "\n",
    "    for i in range(1, len(array)):\n",
    "        # 2) 내 앞의 있는 배열을 가장 가까운 곳부터 먼 곳으로 대소비교한다.\n",
    "        # range(내 앞의 값부터, -1까지 = 0까지, 1씩 감소)\n",
    "        for j in range(i-1, 0-1, -1):\n",
    "            now_value = array[i] # 현재 값\n",
    "            target_value = array[j] # 비교 대상 값\n",
    "\n",
    "            # 2-1) 나보다 값이 클 경우, 해당 위치의 값과 내 위치의 값을 서로 교환한다.\n",
    "            # 2-2) 나보다 값이 작거나 같을 경우, 교환하지 않고 현재 회차를 종료한다.\n",
    "            if target_value > now_value:\n",
    "                array[i], array[j] = array[j], array[i] # 값 교환 pythonic\n",
    "                i = j # 현재 index를 j로 변경 (앞으로 이동)\n",
    "            else:\n",
    "                break\n",
    "\n",
    "        print(array)\n",
    "\n",
    "    # 3) 정렬을 시작할 index를 1 증가시키고, 2)의 과정을 반복한다.\n",
    "    # 4) 배열의 맨 마지막 index까지 진행하고, 정렬된 배열을 반환한다.\n",
    "\n",
    "    return array"
   ]
  },
  {
   "cell_type": "code",
   "execution_count": 32,
   "metadata": {},
   "outputs": [
    {
     "name": "stdout",
     "output_type": "stream",
     "text": [
      "[3, 0, 1, 8, 7, 2, 5, 4, 9, 6]\n",
      "[0, 3, 1, 8, 7, 2, 5, 4, 9, 6]\n",
      "[0, 1, 3, 8, 7, 2, 5, 4, 9, 6]\n",
      "[0, 1, 3, 8, 7, 2, 5, 4, 9, 6]\n",
      "[0, 1, 3, 7, 8, 2, 5, 4, 9, 6]\n",
      "[0, 1, 2, 3, 7, 8, 5, 4, 9, 6]\n",
      "[0, 1, 2, 3, 5, 7, 8, 4, 9, 6]\n",
      "[0, 1, 2, 3, 4, 5, 7, 8, 9, 6]\n",
      "[0, 1, 2, 3, 4, 5, 7, 8, 9, 6]\n",
      "[0, 1, 2, 3, 4, 5, 6, 7, 8, 9]\n",
      "테스트 성공\n"
     ]
    }
   ],
   "source": [
    "if solution([3, 0, 1, 8, 7, 2, 5, 4, 9, 6]) == list(range(10)):\n",
    "    print(\"테스트 성공\")\n",
    "else:\n",
    "    print(\"테스트 실패\")"
   ]
  },
  {
   "cell_type": "code",
   "execution_count": 29,
   "metadata": {},
   "outputs": [],
   "source": [
    "def solution(array):\n",
    "    print(array)\n",
    "    # 1번 인덱스부터 맨 끝 인덱스까지 비교\n",
    "    for i in range(1, len(array)):\n",
    "        # 비교 시작 지점 인덱스부터 1번 인덱스까지 거슬러 올라가면서 대소비교\n",
    "        for j in range(i, 0, -1):\n",
    "            # 앞 자리가 더 크면 앞뒤 교환\n",
    "            if array[j] < array[j-1]:\n",
    "                array[j], array[j-1] = array[j-1], array[j]\n",
    "            # 그렇지 않으면, 다음 인덱스 비교 시작\n",
    "            else:\n",
    "                break\n",
    "        print(array)\n",
    "    return array"
   ]
  },
  {
   "cell_type": "code",
   "execution_count": 30,
   "metadata": {},
   "outputs": [
    {
     "name": "stdout",
     "output_type": "stream",
     "text": [
      "[3, 0, 1, 8, 7, 2, 5, 4, 9, 6]\n",
      "[0, 3, 1, 8, 7, 2, 5, 4, 9, 6]\n",
      "[0, 1, 3, 8, 7, 2, 5, 4, 9, 6]\n",
      "[0, 1, 3, 8, 7, 2, 5, 4, 9, 6]\n",
      "[0, 1, 3, 7, 8, 2, 5, 4, 9, 6]\n",
      "[0, 1, 2, 3, 7, 8, 5, 4, 9, 6]\n",
      "[0, 1, 2, 3, 5, 7, 8, 4, 9, 6]\n",
      "[0, 1, 2, 3, 4, 5, 7, 8, 9, 6]\n",
      "[0, 1, 2, 3, 4, 5, 7, 8, 9, 6]\n",
      "[0, 1, 2, 3, 4, 5, 6, 7, 8, 9]\n",
      "테스트 성공\n"
     ]
    }
   ],
   "source": [
    "if solution([3, 0, 1, 8, 7, 2, 5, 4, 9, 6]) == list(range(10)):\n",
    "    print(\"테스트 성공\")\n",
    "else:\n",
    "    print(\"테스트 실패\")"
   ]
  },
  {
   "attachments": {},
   "cell_type": "markdown",
   "metadata": {},
   "source": [
    "## 선택 정렬"
   ]
  },
  {
   "cell_type": "code",
   "execution_count": 11,
   "metadata": {},
   "outputs": [],
   "source": [
    "# 아이디어가 마땅하게 떠오르지 않아 이코테 코드 복붙...\n",
    "def solution(array):\n",
    "    print(array)\n",
    "    for i in range(len(array)):\n",
    "        # 가장 작은 데이터의 인덱스\n",
    "        min_idx = i\n",
    "    \n",
    "        for j in range(i+1, len(array)):\n",
    "            # 최솟값 탐색 후 자리 변경\n",
    "            if array[min_idx] > array[j]:\n",
    "                min_idx = j\n",
    "        array[i], array[min_idx] = array[min_idx], array[i]\n",
    "\n",
    "        print(array)\n",
    "    return array"
   ]
  },
  {
   "cell_type": "code",
   "execution_count": 33,
   "metadata": {},
   "outputs": [],
   "source": [
    "# 용훈 님, 형석 님의 코드에서 리스트 슬라이싱 인사이트를 얻고 구현\n",
    "def solution(array):\n",
    "    print(array)\n",
    "    for i in range(len(array)):\n",
    "        # 배열의 i번째 인덱스부터 마지막 값 중 최솟값 탐색\n",
    "        min_val = min(array[i:])\n",
    "\n",
    "        # 최솟값에 해당하는 인덱스 j에 할당 후 자리 변경\n",
    "        j = i + array[i:].index(min_val)\n",
    "        # j = array.index(min_val)    # 주의 ! 중복값이 있을 경우 작동 안함\n",
    "        \n",
    "        array[i], array[j] = array[j], array[i]\n",
    "        print(array)\n",
    "    return(array)"
   ]
  },
  {
   "cell_type": "code",
   "execution_count": 37,
   "metadata": {},
   "outputs": [],
   "source": [
    "# 강사님 풀이 1\n",
    "def solution(array):\n",
    "    # 0번째 인덱스부터 해당 위치에 들어갈 값 탐색\n",
    "    # (마지막 -1번째 때 정렬 완료)\n",
    "    for i in range(len(array) - 1):\n",
    "        # i번째 인덱스부터 끝까지 배열을 확인해서 가장 작은 값과 해당 값의 인덱스 탐색\n",
    "        min_value = array[i]\n",
    "        min_index = i\n",
    "        for j, v in enumerate(array[i+1:], start=i+1):\n",
    "            if v < min_value:\n",
    "                min_value = v\n",
    "                min_index = j\n",
    "\n",
    "        # 해당 위치를 가장 작은 값과 교환\n",
    "        array[i], array[min_index] = array[min_index], array[i]\n",
    "        print(array)\n",
    "    return array\n"
   ]
  },
  {
   "cell_type": "code",
   "execution_count": 41,
   "metadata": {},
   "outputs": [],
   "source": [
    "# 강사님 풀이 2\n",
    "def solution(array):\n",
    "    # 큰 값부터 맨 끝에 정렬\n",
    "\n",
    "    # 역순 정렬\n",
    "    for i in range(len(array)-1, 0, -1):\n",
    "        max_value = array[i]\n",
    "        max_index = i\n",
    "\n",
    "        # 정렬된 곳 앞에까지만 확인\n",
    "        for j, v in enumerate(array[:i], start=0):\n",
    "            if v > max_value:\n",
    "                max_value = v\n",
    "                max_index = j\n",
    "\n",
    "        array[i], array[max_index] = array[max_index], array[i]\n",
    "    return array"
   ]
  },
  {
   "cell_type": "code",
   "execution_count": 42,
   "metadata": {},
   "outputs": [
    {
     "name": "stdout",
     "output_type": "stream",
     "text": [
      "테스트 성공\n"
     ]
    }
   ],
   "source": [
    "if solution([3, 0, 1, 8, 7, 2, 5, 4, 9, 6]) == list(range(10)):\n",
    "    print(\"테스트 성공\")\n",
    "else:\n",
    "    print(\"테스트 실패\")"
   ]
  },
  {
   "attachments": {},
   "cell_type": "markdown",
   "metadata": {},
   "source": [
    "## 버블 정렬"
   ]
  },
  {
   "cell_type": "code",
   "execution_count": 23,
   "metadata": {},
   "outputs": [],
   "source": [
    "def solution(array):\n",
    "    print(array)\n",
    "    for i in range(len(array)):\n",
    "        # 배열의 총 크기에서 i의 값과 1을 뺀 만큼 반복\n",
    "        for j in range(0, len(array) - i - 1):\n",
    "            # 만약 현재 인덱스의 값이 다음 인덱스의 값보다 클 경우, 두 값 swap\n",
    "            if array[j + 1] < array[j]:\n",
    "                array[j + 1], array[j] = array[j], array[j + 1]\n",
    "                print(array)\n",
    "        print(array)\n",
    "    return array"
   ]
  },
  {
   "cell_type": "code",
   "execution_count": 24,
   "metadata": {},
   "outputs": [
    {
     "name": "stdout",
     "output_type": "stream",
     "text": [
      "[3, 0, 1, 8, 7, 2, 5, 4, 9, 6]\n",
      "[0, 3, 1, 8, 7, 2, 5, 4, 9, 6]\n",
      "[0, 1, 3, 8, 7, 2, 5, 4, 9, 6]\n",
      "[0, 1, 3, 7, 8, 2, 5, 4, 9, 6]\n",
      "[0, 1, 3, 7, 2, 8, 5, 4, 9, 6]\n",
      "[0, 1, 3, 7, 2, 5, 8, 4, 9, 6]\n",
      "[0, 1, 3, 7, 2, 5, 4, 8, 9, 6]\n",
      "[0, 1, 3, 7, 2, 5, 4, 8, 6, 9]\n",
      "[0, 1, 3, 7, 2, 5, 4, 8, 6, 9]\n",
      "[0, 1, 3, 2, 7, 5, 4, 8, 6, 9]\n",
      "[0, 1, 3, 2, 5, 7, 4, 8, 6, 9]\n",
      "[0, 1, 3, 2, 5, 4, 7, 8, 6, 9]\n",
      "[0, 1, 3, 2, 5, 4, 7, 6, 8, 9]\n",
      "[0, 1, 3, 2, 5, 4, 7, 6, 8, 9]\n",
      "[0, 1, 2, 3, 5, 4, 7, 6, 8, 9]\n",
      "[0, 1, 2, 3, 4, 5, 7, 6, 8, 9]\n",
      "[0, 1, 2, 3, 4, 5, 6, 7, 8, 9]\n",
      "[0, 1, 2, 3, 4, 5, 6, 7, 8, 9]\n",
      "[0, 1, 2, 3, 4, 5, 6, 7, 8, 9]\n",
      "[0, 1, 2, 3, 4, 5, 6, 7, 8, 9]\n",
      "[0, 1, 2, 3, 4, 5, 6, 7, 8, 9]\n",
      "[0, 1, 2, 3, 4, 5, 6, 7, 8, 9]\n",
      "[0, 1, 2, 3, 4, 5, 6, 7, 8, 9]\n",
      "[0, 1, 2, 3, 4, 5, 6, 7, 8, 9]\n",
      "[0, 1, 2, 3, 4, 5, 6, 7, 8, 9]\n",
      "테스트 성공\n"
     ]
    }
   ],
   "source": [
    "if solution([3, 0, 1, 8, 7, 2, 5, 4, 9, 6]) == list(range(10)):\n",
    "    print(\"테스트 성공\")\n",
    "else:\n",
    "    print(\"테스트 실패\")"
   ]
  },
  {
   "cell_type": "code",
   "execution_count": null,
   "metadata": {},
   "outputs": [],
   "source": []
  }
 ],
 "metadata": {
  "kernelspec": {
   "display_name": "base",
   "language": "python",
   "name": "python3"
  },
  "language_info": {
   "codemirror_mode": {
    "name": "ipython",
    "version": 3
   },
   "file_extension": ".py",
   "mimetype": "text/x-python",
   "name": "python",
   "nbconvert_exporter": "python",
   "pygments_lexer": "ipython3",
   "version": "3.9.16"
  },
  "orig_nbformat": 4
 },
 "nbformat": 4,
 "nbformat_minor": 2
}
