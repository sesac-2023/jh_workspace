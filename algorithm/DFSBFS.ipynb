{
 "cells": [
  {
   "attachments": {},
   "cell_type": "markdown",
   "metadata": {},
   "source": [
    "## DFS, BFS"
   ]
  },
  {
   "attachments": {},
   "cell_type": "markdown",
   "metadata": {},
   "source": [
    "## 1) DFS"
   ]
  },
  {
   "attachments": {},
   "cell_type": "markdown",
   "metadata": {},
   "source": [
    "### 예제: 음료수 얼려먹기"
   ]
  },
  {
   "attachments": {},
   "cell_type": "markdown",
   "metadata": {},
   "source": [
    "#### * 입력 받기"
   ]
  },
  {
   "cell_type": "code",
   "execution_count": 2,
   "metadata": {},
   "outputs": [],
   "source": [
    "input_text = \"\"\"4 5\n",
    "00110\n",
    "00011\n",
    "11111\n",
    "00000\"\"\""
   ]
  },
  {
   "cell_type": "code",
   "execution_count": 4,
   "metadata": {},
   "outputs": [
    {
     "data": {
      "text/plain": [
       "['4 5', '00110', '00011', '11111', '00000']"
      ]
     },
     "execution_count": 4,
     "metadata": {},
     "output_type": "execute_result"
    }
   ],
   "source": [
    "input_list = input_text.split('\\n')\n",
    "input_list"
   ]
  },
  {
   "cell_type": "code",
   "execution_count": 11,
   "metadata": {},
   "outputs": [],
   "source": [
    "N, M = input_list[0].split()"
   ]
  },
  {
   "cell_type": "code",
   "execution_count": 17,
   "metadata": {},
   "outputs": [
    {
     "data": {
      "text/plain": [
       "(4, 5)"
      ]
     },
     "execution_count": 17,
     "metadata": {},
     "output_type": "execute_result"
    }
   ],
   "source": [
    "N, M = map(int, input_list[0].split())\n",
    "N, M"
   ]
  },
  {
   "cell_type": "code",
   "execution_count": 22,
   "metadata": {},
   "outputs": [
    {
     "name": "stdout",
     "output_type": "stream",
     "text": [
      "00110\n",
      "[0, 0, 1, 1, 0]\n",
      "00011\n",
      "[0, 0, 0, 1, 1]\n",
      "11111\n",
      "[1, 1, 1, 1, 1]\n",
      "00000\n",
      "[0, 0, 0, 0, 0]\n"
     ]
    }
   ],
   "source": [
    "for i in range(N):\n",
    "    print(input_list[i+1])\n",
    "    print(list(map(int, input_list[i+1])))"
   ]
  },
  {
   "cell_type": "code",
   "execution_count": 24,
   "metadata": {},
   "outputs": [
    {
     "name": "stdout",
     "output_type": "stream",
     "text": [
      "[0, 0, 1, 1, 0]\n",
      "[0, 0, 0, 1, 1]\n",
      "[1, 1, 1, 1, 1]\n",
      "[0, 0, 0, 0, 0]\n"
     ]
    }
   ],
   "source": [
    "# 1번째부터 N+1번째까지 얼음틀 형태\n",
    "ice_map = []\n",
    "for i in range(N):\n",
    "    line = []\n",
    "    for block in input_list[i+1]:\n",
    "        line.append(int(block))\n",
    "    print(line)"
   ]
  },
  {
   "attachments": {},
   "cell_type": "markdown",
   "metadata": {},
   "source": [
    "#### 코드"
   ]
  },
  {
   "cell_type": "code",
   "execution_count": 29,
   "metadata": {},
   "outputs": [],
   "source": [
    "input_text = \"\"\"4 5\n",
    "00110\n",
    "00011\n",
    "11111\n",
    "00000\"\"\""
   ]
  },
  {
   "cell_type": "code",
   "execution_count": 30,
   "metadata": {},
   "outputs": [
    {
     "name": "stdout",
     "output_type": "stream",
     "text": [
      "4 5\n",
      "00110\n",
      "00011\n",
      "11111\n",
      "00000\n"
     ]
    }
   ],
   "source": [
    "print(input_text)"
   ]
  },
  {
   "cell_type": "code",
   "execution_count": 31,
   "metadata": {},
   "outputs": [
    {
     "data": {
      "text/plain": [
       "(4, 5)"
      ]
     },
     "execution_count": 31,
     "metadata": {},
     "output_type": "execute_result"
    }
   ],
   "source": [
    "N, M = map(int, input_text.split(\"\\n\")[0].split())\n",
    "N, M"
   ]
  },
  {
   "cell_type": "code",
   "execution_count": 32,
   "metadata": {},
   "outputs": [],
   "source": [
    "input_list = input_text.split(\"\\n\")"
   ]
  },
  {
   "cell_type": "code",
   "execution_count": 33,
   "metadata": {},
   "outputs": [
    {
     "data": {
      "text/plain": [
       "[[0, 0, 1, 1, 0], [0, 0, 0, 1, 1], [1, 1, 1, 1, 1], [0, 0, 0, 0, 0]]"
      ]
     },
     "execution_count": 33,
     "metadata": {},
     "output_type": "execute_result"
    }
   ],
   "source": [
    "# 얼음틀 정보 리스트에 저장하기\n",
    "ice_map = []\n",
    "for i in range(N):\n",
    "    ice_map.append(list(map(int, input_list[i+1])))\n",
    "ice_map"
   ]
  },
  {
   "cell_type": "code",
   "execution_count": 34,
   "metadata": {},
   "outputs": [
    {
     "data": {
      "text/plain": [
       "[[0, 0, 0, 0, 0], [0, 0, 0, 0, 0], [0, 0, 0, 0, 0], [0, 0, 0, 0, 0]]"
      ]
     },
     "execution_count": 34,
     "metadata": {},
     "output_type": "execute_result"
    }
   ],
   "source": [
    "# 물을 담지 않았으면 0, 담았으면 1\n",
    "# N X M 배열 초기화\n",
    "visited = [[0] * M for _ in range(N)]   # 물을 담았는지, 담지 않았는지 체크\n",
    "visited"
   ]
  },
  {
   "cell_type": "code",
   "execution_count": 35,
   "metadata": {},
   "outputs": [],
   "source": [
    "# 시작위치 (원래는 얼릴 수 있는지 없는지 체크 필요)\n",
    "stack = [[0, 0]]"
   ]
  },
  {
   "cell_type": "code",
   "execution_count": 54,
   "metadata": {},
   "outputs": [],
   "source": [
    "# 다음에 얼려야 할 위치가 있는 동안만,\n",
    "def dfs(stack):\n",
    "    while stack:\n",
    "        pos = stack.pop() # 다음 위치를 꺼내준다.\n",
    "        i, j =pos\n",
    "        # checklist\n",
    "        # 1. 물을 넣을 수 있는지\n",
    "        # 2. 이미 방문한 곳은 아닌지\n",
    "        if ice_map[i][j] == 0 and visited[i][j] == 0:\n",
    "            # 물부터 담기\n",
    "            visited[i][j] = 1\n",
    "\n",
    "            # # 그 다음 갈 수 있는 위치를 탐색\n",
    "            # # CASE 1: 위로 간다고 할 때\n",
    "            # next_pos = i - 1, j\n",
    "\n",
    "            # 체크해야 하는 것\n",
    "            # 1. 틀을 벗어나지는 않는지\n",
    "            # 2. 이미 방문한 곳은 아닌지\n",
    "            # 3. 벽인지 아닌지\n",
    "\n",
    "            # if -1 < next_pos[0] < N and -1 < next_pos[1] < M and \\\n",
    "            #     visited[i][j] == 0 and ice_map[next_pos[0]][next_pos[1]] == 0:\n",
    "            #     stack.append(next_pos)\n",
    "\n",
    "            # # CASE 2: 아래로 간다고 할 때\n",
    "            # next_pos = i + 1, j\n",
    "\n",
    "\n",
    "            # if -1 < next_pos[0] < N and -1 < next_pos[1] < M and \\\n",
    "            #     visited[i][j] == 0 and ice_map[next_pos[0]][next_pos[1]] == 0:\n",
    "            #     stack.append(next_pos)\n",
    "\n",
    "            # # CASE 3: 왼쪽으로 간다고 할 때\n",
    "            # next_pos = i, j - 1\n",
    "\n",
    "            # if -1 < next_pos[0] < N and -1 < next_pos[1] < M and \\\n",
    "            #     visited[i][j] == 0 and ice_map[next_pos[0]][next_pos[1]] == 0:\n",
    "            #     stack.append(next_pos)\n",
    "\n",
    "            # # CASE 4: 오른쪽으로 간다고 할 때\n",
    "            # next_pos = i, j + 1\n",
    "\n",
    "            # if -1 < next_pos[0] < N and -1 < next_pos[1] < M and \\\n",
    "            #     visited[i][j] == 0 and ice_map[next_pos[0]][next_pos[1]] == 0:\n",
    "            #     stack.append(next_pos)\n",
    "\n",
    "            move_dirs = [(-1, 0), (1, 0), (0, -1), (0, 1)]  # 상, 하, 좌, 우\n",
    "            for move_dir in move_dirs:\n",
    "                next_pos = i + move_dir[0], j + move_dir[1]\n",
    "\n",
    "                # 체크 로직\n",
    "                if -1 < next_pos[0] < N and -1 < next_pos[1] < M and \\\n",
    "                visited[next_pos[0]][next_pos[1]] == 0 and ice_map[next_pos[0]][next_pos[1]] == 0:\n",
    "                    stack.append(next_pos)\n",
    "\n",
    "\n"
   ]
  },
  {
   "cell_type": "code",
   "execution_count": 55,
   "metadata": {},
   "outputs": [
    {
     "data": {
      "text/plain": [
       "[]"
      ]
     },
     "execution_count": 55,
     "metadata": {},
     "output_type": "execute_result"
    }
   ],
   "source": [
    "stack"
   ]
  },
  {
   "cell_type": "code",
   "execution_count": 56,
   "metadata": {},
   "outputs": [
    {
     "name": "stdout",
     "output_type": "stream",
     "text": [
      "[1, 1, 0, 0, 1]\n",
      "[1, 1, 1, 0, 0]\n",
      "[0, 0, 0, 0, 0]\n",
      "[1, 1, 1, 1, 1]\n"
     ]
    },
    {
     "data": {
      "text/plain": [
       "[None, None, None, None]"
      ]
     },
     "execution_count": 56,
     "metadata": {},
     "output_type": "execute_result"
    }
   ],
   "source": [
    "[print(ice) for ice in visited]"
   ]
  },
  {
   "cell_type": "code",
   "execution_count": 57,
   "metadata": {},
   "outputs": [
    {
     "name": "stdout",
     "output_type": "stream",
     "text": [
      "현재 위치: [0, 0]\n",
      "[1, 1, 0, 0, 0]\n",
      "[1, 1, 1, 0, 0]\n",
      "[0, 0, 0, 0, 0]\n",
      "[0, 0, 0, 0, 0]\n",
      "현재 위치: [0, 4]\n",
      "[1, 1, 0, 0, 1]\n",
      "[1, 1, 1, 0, 0]\n",
      "[0, 0, 0, 0, 0]\n",
      "[0, 0, 0, 0, 0]\n",
      "현재 위치: [3, 0]\n",
      "[1, 1, 0, 0, 1]\n",
      "[1, 1, 1, 0, 0]\n",
      "[0, 0, 0, 0, 0]\n",
      "[1, 1, 1, 1, 1]\n",
      "3\n"
     ]
    }
   ],
   "source": [
    "visited = [[0] * M for _ in range(N)]\n",
    "\n",
    "answer = 0\n",
    "for i in range(N):\n",
    "    for j in range(M):\n",
    "        # 다음 갈 수 있는 곳을 탐색\n",
    "        if visited[i][j] == 0 and ice_map[i][j] == 0:\n",
    "            stack = [(i, j)]\n",
    "            dfs(stack)\n",
    "            print(f\"현재 위치: {[i, j]}\")\n",
    "            [print(ice) for ice in visited]\n",
    "            answer += 1\n",
    "\n",
    "print(answer)"
   ]
  },
  {
   "attachments": {},
   "cell_type": "markdown",
   "metadata": {},
   "source": [
    "### 최종 코드"
   ]
  },
  {
   "cell_type": "code",
   "execution_count": 70,
   "metadata": {},
   "outputs": [
    {
     "name": "stdout",
     "output_type": "stream",
     "text": [
      "현재 위치: [0, 0]\n",
      "[1, 1, 0, 0, 0]\n",
      "[1, 1, 1, 0, 0]\n",
      "[0, 0, 0, 0, 0]\n",
      "[0, 0, 0, 0, 0]\n",
      "현재 위치: [0, 4]\n",
      "[1, 1, 0, 0, 1]\n",
      "[1, 1, 1, 0, 0]\n",
      "[0, 0, 0, 0, 0]\n",
      "[0, 0, 0, 0, 0]\n",
      "현재 위치: [3, 0]\n",
      "[1, 1, 0, 0, 1]\n",
      "[1, 1, 1, 0, 0]\n",
      "[0, 0, 0, 0, 0]\n",
      "[1, 1, 1, 1, 1]\n",
      "3\n"
     ]
    }
   ],
   "source": [
    "input_text = \"\"\"4 5\n",
    "00110\n",
    "00011\n",
    "11111\n",
    "00000\"\"\"\n",
    "\n",
    "input_list = input_text.split(\"\\n\")\n",
    "N, M = map(int, input_text.split(\"\\n\")[0].split())\n",
    "\n",
    "# 얼음틀 정보 리스트에 저장하기\n",
    "ice_map = []\n",
    "for i in range(N):\n",
    "    ice_map.append(list(map(int, input_list[i+1])))\n",
    "\n",
    "# DFS로 특정한 노드를 방문한 뒤에 연결된 모든 노드들도 방문\n",
    "def dfs(stack):\n",
    "    while stack:\n",
    "        pos = stack.pop()\n",
    "        i, j = pos\n",
    " \n",
    "        if ice_map[i][j] == 0 and visited[i][j] == 0:\n",
    "            visited[i][j] = 1\n",
    "\n",
    "            move_dirs = [(-1, 0), (1, 0), (0, -1), (0, 1)]  # 상, 하, 좌, 우\n",
    "            for move_dir in move_dirs:\n",
    "                next_pos = i + move_dir[0], j + move_dir[1]\n",
    "\n",
    "                if -1 < next_pos[0] < N and -1 < next_pos[1] < M and \\\n",
    "                visited[next_pos[0]][next_pos[1]] == 0 and ice_map[next_pos[0]][next_pos[1]] == 0:\n",
    "                    stack.append(next_pos)\n",
    "\n",
    "visited = [[0] * M for _ in range(N)]\n",
    "\n",
    "answer = 0\n",
    "for i in range(N): \n",
    "    for j in range(M):\n",
    "        if visited[i][j] == 0 and ice_map[i][j] == 0:\n",
    "            stack = [(i, j)]\n",
    "            dfs(stack)\n",
    "            print('현재 위치:', str([i, j]))\n",
    "            [print(ice) for ice in visited]\n",
    "            answer += 1\n",
    "\n",
    "print(answer)"
   ]
  },
  {
   "attachments": {},
   "cell_type": "markdown",
   "metadata": {},
   "source": [
    "### 얼음 틀까지 입력받는 코드"
   ]
  },
  {
   "cell_type": "code",
   "execution_count": 61,
   "metadata": {},
   "outputs": [
    {
     "name": "stdout",
     "output_type": "stream",
     "text": [
      "현재 위치: [0, 0]\n",
      "[1, 1, 0, 0, 0]\n",
      "[1, 1, 1, 0, 0]\n",
      "[0, 0, 0, 0, 0]\n",
      "[0, 0, 0, 0, 0]\n",
      "현재 위치: [0, 4]\n",
      "[1, 1, 0, 0, 1]\n",
      "[1, 1, 1, 0, 0]\n",
      "[0, 0, 0, 0, 0]\n",
      "[0, 0, 0, 0, 0]\n",
      "현재 위치: [3, 0]\n",
      "[1, 1, 0, 0, 1]\n",
      "[1, 1, 1, 0, 0]\n",
      "[0, 0, 0, 0, 0]\n",
      "[1, 1, 1, 1, 1]\n",
      "3\n"
     ]
    }
   ],
   "source": [
    "# N, M 공백 기준으로 구분하여 입력 받기\n",
    "N, M = map(int, input().split())\n",
    "\n",
    "# 2차원 리스트의 얼음 틀 정보 입력 받기\n",
    "ice_map = []\n",
    "for i in range(N):\n",
    "    ice_map.append(list(map(int, input())))\n",
    "\n",
    "# DFS로 특정한 노드를 방문한 뒤에 연결된 모든 노드들도 방문\n",
    "def dfs(stack):\n",
    "    while stack:\n",
    "        pos = stack.pop()\n",
    "        i, j = pos\n",
    " \n",
    "        if ice_map[i][j] == 0 and visited[i][j] == 0:\n",
    "            visited[i][j] = 1\n",
    "\n",
    "            move_dirs = [(-1, 0), (1, 0), (0, -1), (0, 1)]  # 상, 하, 좌, 우\n",
    "            for move_dir in move_dirs:\n",
    "                next_pos = i + move_dir[0], j + move_dir[1]\n",
    "\n",
    "                if -1 < next_pos[0] < N and -1 < next_pos[1] < M and \\\n",
    "                visited[next_pos[0]][next_pos[1]] == 0 and ice_map[next_pos[0]][next_pos[1]] == 0:\n",
    "                    stack.append(next_pos)\n",
    "\n",
    "visited = [[0] * M for _ in range(N)]\n",
    "\n",
    "answer = 0\n",
    "for i in range(N): \n",
    "    for j in range(M):\n",
    "        if visited[i][j] == 0 and ice_map[i][j] == 0:\n",
    "            stack = [(i, j)]\n",
    "            dfs(stack)\n",
    "            print('현재 위치:', str([i, j]))\n",
    "            [print(ice) for ice in visited]\n",
    "            answer += 1\n",
    "\n",
    "print(answer)"
   ]
  },
  {
   "cell_type": "code",
   "execution_count": 68,
   "metadata": {},
   "outputs": [
    {
     "name": "stdout",
     "output_type": "stream",
     "text": [
      "3\n"
     ]
    }
   ],
   "source": [
    "# 이코테 풀이\n",
    "\n",
    "# N, M을 공백을 기준으로 구분하여 입력 받기\n",
    "N, M = map(int, input().split())\n",
    "\n",
    "# 2차원 리스트의 맵 정보 입력 받기\n",
    "graph = []\n",
    "for i in range(N):\n",
    "    graph.append(list(map(int, input())))\n",
    "\n",
    "# DFS로 특정한 노드를 방문한 뒤에 연결된 모든 노드들도 방문\n",
    "def dfs(x, y):\n",
    "\n",
    "    # 주어진 범위를 벗어나는 경우에는 즉시 종료\n",
    "    if x <= -1 or x >= N or y <= -1 or y >= M:\n",
    "        return False\n",
    "    \n",
    "    # 현재 노드를 아직 방문하지 않았다면\n",
    "    if graph[x][y] == 0:\n",
    "\n",
    "        # 해당 노드 방문 처리\n",
    "        graph[x][y] = 1\n",
    "\n",
    "        # 상, 하, 좌, 우의 위치들도 모두 재귀적으로 호출\n",
    "        dfs(x - 1, y)   # 상\n",
    "        dfs(x, y - 1)   # 하\n",
    "        dfs(x + 1, y)   # 좌\n",
    "        dfs(x, y + 1)   # 우\n",
    "        return True\n",
    "    return False\n",
    "\n",
    "# 모든 노드(위치)에 대하여 음료수 채우기\n",
    "result = 0\n",
    "for i in range(N):\n",
    "    for j in range(M):\n",
    "        \n",
    "        # 현재 위치에서 DFS 수행\n",
    "        if dfs(i, j) == True:\n",
    "            result += 1\n",
    "\n",
    "print(result) # 정답 출력"
   ]
  },
  {
   "attachments": {},
   "cell_type": "markdown",
   "metadata": {},
   "source": [
    "## 2) BFS"
   ]
  },
  {
   "attachments": {},
   "cell_type": "markdown",
   "metadata": {},
   "source": [
    "### * queue vs stack"
   ]
  },
  {
   "cell_type": "code",
   "execution_count": 75,
   "metadata": {},
   "outputs": [
    {
     "data": {
      "text/plain": [
       "deque([1, 2, 3])"
      ]
     },
     "execution_count": 75,
     "metadata": {},
     "output_type": "execute_result"
    }
   ],
   "source": [
    "from collections import deque\n",
    "\n",
    "queue = deque()\n",
    "queue.append(1)\n",
    "queue.append(2)\n",
    "queue.append(3)\n",
    "queue"
   ]
  },
  {
   "cell_type": "code",
   "execution_count": 76,
   "metadata": {},
   "outputs": [
    {
     "data": {
      "text/plain": [
       "deque([2, 3])"
      ]
     },
     "execution_count": 76,
     "metadata": {},
     "output_type": "execute_result"
    }
   ],
   "source": [
    "queue.popleft()\n",
    "queue"
   ]
  },
  {
   "attachments": {},
   "cell_type": "markdown",
   "metadata": {},
   "source": [
    "### pop(0)이 아닌 popleft()를 사용하는 이유\n",
    "* pop(0)의 경우 리스트(스택)의 끝에서부터 맨 앞까지 리스트(스택)의 길이인 N만큼 시간 소요\n",
    "* popleft()의 경우 처음부터 큐의 맨 앞에서 빼기 때문에 1만큼 시간 소요"
   ]
  },
  {
   "cell_type": "code",
   "execution_count": 82,
   "metadata": {},
   "outputs": [
    {
     "name": "stdout",
     "output_type": "stream",
     "text": [
      "현재 queue: deque([(0, 0)])\n",
      "현재 queue: deque([(1, 0), (0, 1)])\n",
      "현재 queue: deque([(0, 1), (1, 1)])\n",
      "현재 queue: deque([(1, 1), (1, 1)])\n",
      "현재 queue: deque([(1, 1), (1, 2)])\n",
      "현재 queue: deque([(1, 2)])\n",
      "현재 위치: [0, 0]\n",
      "[1, 1, 0, 0, 0]\n",
      "[1, 1, 1, 0, 0]\n",
      "[0, 0, 0, 0, 0]\n",
      "[0, 0, 0, 0, 0]\n",
      "현재 queue: deque([(0, 4)])\n",
      "현재 위치: [0, 4]\n",
      "[1, 1, 0, 0, 1]\n",
      "[1, 1, 1, 0, 0]\n",
      "[0, 0, 0, 0, 0]\n",
      "[0, 0, 0, 0, 0]\n",
      "현재 queue: deque([(3, 0)])\n",
      "현재 queue: deque([(3, 1)])\n",
      "현재 queue: deque([(3, 2)])\n",
      "현재 queue: deque([(3, 3)])\n",
      "현재 queue: deque([(3, 4)])\n",
      "현재 위치: [3, 0]\n",
      "[1, 1, 0, 0, 1]\n",
      "[1, 1, 1, 0, 0]\n",
      "[0, 0, 0, 0, 0]\n",
      "[1, 1, 1, 1, 1]\n",
      "3\n"
     ]
    }
   ],
   "source": [
    "input_text = \"\"\"4 5\n",
    "00110\n",
    "00011\n",
    "11111\n",
    "00000\"\"\"\n",
    "\n",
    "input_list = input_text.split(\"\\n\")\n",
    "N, M = map(int, input_text.split(\"\\n\")[0].split())\n",
    "\n",
    "# 얼음틀 정보 리스트에 저장하기\n",
    "ice_map = []\n",
    "for i in range(N):\n",
    "    ice_map.append(list(map(int, input_list[i+1])))\n",
    "\n",
    "def bfs(queue):\n",
    "    while queue:\n",
    "        print(f\"현재 queue: {queue}\")\n",
    "        pos = queue.popleft()\n",
    "        i, j = pos\n",
    " \n",
    "        if ice_map[i][j] == 0 and visited[i][j] == 0:\n",
    "            visited[i][j] = 1\n",
    "\n",
    "            move_dirs = [(-1, 0), (1, 0), (0, -1), (0, 1)]  # 상, 하, 좌, 우\n",
    "            for move_dir in move_dirs:\n",
    "                next_pos = i + move_dir[0], j + move_dir[1]\n",
    "\n",
    "                if -1 < next_pos[0] < N and -1 < next_pos[1] < M and \\\n",
    "                visited[next_pos[0]][next_pos[1]] == 0 and ice_map[next_pos[0]][next_pos[1]] == 0:\n",
    "                    queue.append(next_pos)\n",
    "\n",
    "visited = [[0] * M for _ in range(N)]\n",
    "\n",
    "answer = 0\n",
    "for i in range(N): \n",
    "    for j in range(M):\n",
    "        if visited[i][j] == 0 and ice_map[i][j] == 0:\n",
    "            queue = deque([(i, j)])\n",
    "            bfs(queue)\n",
    "            print('현재 위치:', str([i, j]))\n",
    "            [print(ice) for ice in visited]\n",
    "            answer += 1\n",
    "\n",
    "print(answer)"
   ]
  },
  {
   "cell_type": "code",
   "execution_count": null,
   "metadata": {},
   "outputs": [],
   "source": []
  }
 ],
 "metadata": {
  "kernelspec": {
   "display_name": "base",
   "language": "python",
   "name": "python3"
  },
  "language_info": {
   "codemirror_mode": {
    "name": "ipython",
    "version": 3
   },
   "file_extension": ".py",
   "mimetype": "text/x-python",
   "name": "python",
   "nbconvert_exporter": "python",
   "pygments_lexer": "ipython3",
   "version": "3.9.16"
  },
  "orig_nbformat": 4
 },
 "nbformat": 4,
 "nbformat_minor": 2
}
