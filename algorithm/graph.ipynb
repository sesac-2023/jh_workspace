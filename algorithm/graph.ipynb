{
 "cells": [
  {
   "attachments": {},
   "cell_type": "markdown",
   "metadata": {},
   "source": [
    "### 예제: 크루스칼 알고리즘 구현"
   ]
  },
  {
   "cell_type": "code",
   "execution_count": 43,
   "metadata": {},
   "outputs": [],
   "source": [
    "input_text = \"\"\"1 2 6\n",
    "1 4 4\n",
    "2 3 5\n",
    "2 4 3\n",
    "2 5 7\n",
    "2 6 8\n",
    "3 6 8\n",
    "4 5 9\n",
    "5 6 11\"\"\""
   ]
  },
  {
   "attachments": {},
   "cell_type": "markdown",
   "metadata": {},
   "source": [
    "#### 1. list를 사용하는 경우"
   ]
  },
  {
   "cell_type": "code",
   "execution_count": 44,
   "metadata": {},
   "outputs": [
    {
     "data": {
      "text/plain": [
       "[[], [], [], [], [], [], []]"
      ]
     },
     "execution_count": 44,
     "metadata": {},
     "output_type": "execute_result"
    }
   ],
   "source": [
    "edges = [[] for _ in range(6+1)]\n",
    "edges"
   ]
  },
  {
   "cell_type": "code",
   "execution_count": 47,
   "metadata": {},
   "outputs": [
    {
     "data": {
      "text/plain": [
       "[(2, 4, 3),\n",
       " (1, 4, 4),\n",
       " (2, 3, 5),\n",
       " (1, 2, 6),\n",
       " (2, 5, 7),\n",
       " (2, 6, 8),\n",
       " (3, 6, 8),\n",
       " (4, 5, 9),\n",
       " (5, 6, 11)]"
      ]
     },
     "execution_count": 47,
     "metadata": {},
     "output_type": "execute_result"
    }
   ],
   "source": [
    "edges = []\n",
    "for line in input_text.split(\"\\n\"):\n",
    "    \n",
    "    start, end, cost = map(int, line.split(' '))\n",
    "    # start, end, cost = int(start), int(end), int(cost)\n",
    "\n",
    "    edges.append((start, end, cost))\n",
    "\n",
    "    # cost가 작은 순서로 정렬\n",
    "    edges = sorted(edges, key=lambda x: x[2])\n",
    "#     # 1 2 6\n",
    "#     edges[start].append((end, cost))    # n번 노드와 연결된 노드 및 cost 추가\n",
    "#     # 양방향\n",
    "#     edges[end].append((start, cost))\n",
    "edges"
   ]
  },
  {
   "cell_type": "code",
   "execution_count": 64,
   "metadata": {},
   "outputs": [
    {
     "data": {
      "text/plain": [
       "[0, 1, 2, 3, 4, 5, 6]"
      ]
     },
     "execution_count": 64,
     "metadata": {},
     "output_type": "execute_result"
    }
   ],
   "source": [
    "graph_cost = 0\n",
    "parents = [i for i in range(6+1)]\n",
    "parents"
   ]
  },
  {
   "cell_type": "code",
   "execution_count": 70,
   "metadata": {},
   "outputs": [],
   "source": [
    "def find_parent(node, parents):\n",
    "    # 부모 노드와 내 노드 번호가 같으면,\n",
    "    if node == parents[node]:\n",
    "        # 노드 번호 반환\n",
    "        return node\n",
    "    \n",
    "    return find_parent(parents[node], parents)"
   ]
  },
  {
   "cell_type": "code",
   "execution_count": 72,
   "metadata": {},
   "outputs": [
    {
     "name": "stdout",
     "output_type": "stream",
     "text": [
      "노드 2 4\n",
      "비용 3\n",
      "연결상태 [0, 1, 2, 3, 2, 5, 6]\n",
      "start의 부모노드 2\n",
      "end의 부모노드 2\n",
      "노드 1 4\n",
      "비용 4\n",
      "연결상태 [0, 1, 2, 3, 2, 5, 6]\n",
      "start의 부모노드 1\n",
      "end의 부모노드 2\n",
      "노드 2 3\n",
      "비용 5\n",
      "연결상태 [0, 1, 1, 3, 2, 5, 6]\n",
      "start의 부모노드 1\n",
      "end의 부모노드 3\n",
      "노드 1 2\n",
      "비용 6\n",
      "연결상태 [0, 1, 1, 1, 2, 5, 6]\n",
      "start의 부모노드 1\n",
      "end의 부모노드 1\n",
      "노드 2 5\n",
      "비용 7\n",
      "연결상태 [0, 1, 1, 1, 2, 5, 6]\n",
      "start의 부모노드 1\n",
      "end의 부모노드 5\n",
      "노드 2 6\n",
      "비용 8\n",
      "연결상태 [0, 1, 1, 1, 2, 1, 6]\n",
      "start의 부모노드 1\n",
      "end의 부모노드 6\n",
      "노드 3 6\n",
      "비용 8\n",
      "연결상태 [0, 1, 1, 1, 2, 1, 1]\n",
      "start의 부모노드 1\n",
      "end의 부모노드 1\n",
      "노드 4 5\n",
      "비용 9\n",
      "연결상태 [0, 1, 1, 1, 2, 1, 1]\n",
      "start의 부모노드 1\n",
      "end의 부모노드 1\n",
      "노드 5 6\n",
      "비용 11\n",
      "연결상태 [0, 1, 1, 1, 2, 1, 1]\n",
      "start의 부모노드 1\n",
      "end의 부모노드 1\n"
     ]
    }
   ],
   "source": [
    "for edge in edges:\n",
    "    start, end, cost = edge\n",
    "    print('노드', start, end)\n",
    "    print('비용', cost)\n",
    "    print('연결상태', str(parents))\n",
    "\n",
    "    print('start의 부모노드', find_parent(start, parents))\n",
    "    print('end의 부모노드', find_parent(end, parents))\n",
    "\n",
    "    start = find_parent(start, parents) # 1의 부모노드는 1\n",
    "    end = find_parent(end, parents)     # 4의 부모노드는 2 -> 2\n",
    "    # 서로 다르면 사이클 발생 x -> 연결 가능\n",
    "    if parents[start] != parents[end]:\n",
    "        graph_cost += cost\n",
    "\n",
    "        # start가 end보다 크면,\n",
    "        if start > end:\n",
    "            # start노드의 부모노드를 end로 바꿔준다.\n",
    "            parents[start] = end\n",
    "        else:\n",
    "            parents[end] = start"
   ]
  },
  {
   "cell_type": "code",
   "execution_count": 73,
   "metadata": {},
   "outputs": [
    {
     "name": "stdout",
     "output_type": "stream",
     "text": [
      "27\n",
      "[0, 1, 1, 1, 2, 1, 1]\n"
     ]
    }
   ],
   "source": [
    "print(graph_cost)\n",
    "print(parents)"
   ]
  },
  {
   "attachments": {},
   "cell_type": "markdown",
   "metadata": {},
   "source": [
    "### 최종 코드"
   ]
  },
  {
   "cell_type": "code",
   "execution_count": 78,
   "metadata": {},
   "outputs": [
    {
     "name": "stdout",
     "output_type": "stream",
     "text": [
      "노드 2 4\n",
      "비용 3\n",
      "현재까지의 비용 0\n",
      "연결상태 [0, 1, 2, 3, 4, 5, 6]\n",
      "\n",
      "start의 부모노드 2\n",
      "end의 부모노드 4\n",
      "\n",
      "노드 1 4\n",
      "비용 4\n",
      "현재까지의 비용 3\n",
      "연결상태 [0, 1, 2, 3, 2, 5, 6]\n",
      "\n",
      "start의 부모노드 1\n",
      "end의 부모노드 2\n",
      "\n",
      "노드 2 3\n",
      "비용 5\n",
      "현재까지의 비용 7\n",
      "연결상태 [0, 1, 1, 3, 2, 5, 6]\n",
      "\n",
      "start의 부모노드 1\n",
      "end의 부모노드 3\n",
      "\n",
      "노드 1 2\n",
      "비용 6\n",
      "현재까지의 비용 12\n",
      "연결상태 [0, 1, 1, 1, 2, 5, 6]\n",
      "\n",
      "start의 부모노드 1\n",
      "end의 부모노드 1\n",
      "\n",
      "노드 2 5\n",
      "비용 7\n",
      "현재까지의 비용 12\n",
      "연결상태 [0, 1, 1, 1, 2, 5, 6]\n",
      "\n",
      "start의 부모노드 1\n",
      "end의 부모노드 5\n",
      "\n",
      "노드 2 6\n",
      "비용 8\n",
      "현재까지의 비용 19\n",
      "연결상태 [0, 1, 1, 1, 2, 1, 6]\n",
      "\n",
      "start의 부모노드 1\n",
      "end의 부모노드 6\n",
      "\n",
      "노드 3 6\n",
      "비용 8\n",
      "현재까지의 비용 27\n",
      "연결상태 [0, 1, 1, 1, 2, 1, 1]\n",
      "\n",
      "start의 부모노드 1\n",
      "end의 부모노드 1\n",
      "\n",
      "노드 4 5\n",
      "비용 9\n",
      "현재까지의 비용 27\n",
      "연결상태 [0, 1, 1, 1, 2, 1, 1]\n",
      "\n",
      "start의 부모노드 1\n",
      "end의 부모노드 1\n",
      "\n",
      "노드 5 6\n",
      "비용 11\n",
      "현재까지의 비용 27\n",
      "연결상태 [0, 1, 1, 1, 2, 1, 1]\n",
      "\n",
      "start의 부모노드 1\n",
      "end의 부모노드 1\n",
      "\n",
      "최종 cost 27\n",
      "[0, 1, 1, 1, 2, 1, 1]\n"
     ]
    }
   ],
   "source": [
    "def find_parent(node, parents):\n",
    "    # 부모 노드와 내 노드 번호가 같으면,\n",
    "    if node == parents[node]:\n",
    "        # 노드 번호 반환\n",
    "        return node\n",
    "    \n",
    "    return find_parent(parents[node], parents)\n",
    "\n",
    "input_text = \"\"\"1 2 6\n",
    "1 4 4\n",
    "2 3 5\n",
    "2 4 3\n",
    "2 5 7\n",
    "2 6 8\n",
    "3 6 8\n",
    "4 5 9\n",
    "5 6 11\"\"\"\n",
    "\n",
    "edges = []\n",
    "graph_cost = 0\n",
    "parents = [i for i in range(6+1)]\n",
    "\n",
    "for line in input_text.split(\"\\n\"):\n",
    "    \n",
    "    start, end, cost = map(int, line.split(' '))\n",
    "    # start, end, cost = int(start), int(end), int(cost)\n",
    "\n",
    "    edges.append((start, end, cost))\n",
    "\n",
    "    # cost가 작은 순서로 정렬\n",
    "    edges = sorted(edges, key=lambda x: x[2])\n",
    "\n",
    "for edge in edges:\n",
    "    start, end, cost = edge\n",
    "    print('노드', start, end)\n",
    "    print('비용', cost)\n",
    "    print('현재까지의 비용', graph_cost)\n",
    "    print('연결상태', str(parents))\n",
    "    print()\n",
    "\n",
    "    print('start의 부모노드', find_parent(start, parents))\n",
    "    print('end의 부모노드', find_parent(end, parents))\n",
    "    print()\n",
    "\n",
    "    start = find_parent(start, parents) # 1의 부모노드는 1\n",
    "    end = find_parent(end, parents)     # 4의 부모노드는 2 -> 2\n",
    "\n",
    "    # 서로 다르면 사이클 발생 x -> 연결 가능\n",
    "    if parents[start] != parents[end]:\n",
    "        graph_cost += cost\n",
    "\n",
    "        # start가 end보다 크면,\n",
    "        if start > end:\n",
    "\n",
    "            # start노드의 부모노드를 end로 바꿔준다.\n",
    "            parents[start] = end\n",
    "        \n",
    "        # end가 start보다 크면,\n",
    "        else:\n",
    "\n",
    "            # end노드의 부모노드를 start로 바꿔준다.\n",
    "            parents[end] = start\n",
    "\n",
    "print('최종 cost', graph_cost)\n",
    "print(parents)"
   ]
  },
  {
   "attachments": {},
   "cell_type": "markdown",
   "metadata": {},
   "source": [
    "#### 2. dictionary를 사용하는 경우"
   ]
  },
  {
   "cell_type": "code",
   "execution_count": 21,
   "metadata": {},
   "outputs": [
    {
     "data": {
      "text/plain": [
       "{1: [(2, 6), (4, 4)],\n",
       " 2: [(1, 6), (3, 5), (4, 3), (5, 7), (6, 8)],\n",
       " 4: [(1, 4), (2, 3), (5, 9)],\n",
       " 3: [(2, 5), (6, 8)],\n",
       " 5: [(2, 7), (4, 9), (6, 11)],\n",
       " 6: [(2, 8), (3, 8), (5, 11)]}"
      ]
     },
     "execution_count": 21,
     "metadata": {},
     "output_type": "execute_result"
    }
   ],
   "source": [
    "edges = {}\n",
    "for line in input_text.split(\"\\n\"):\n",
    "    start, end, cost = map(int, line.split(' '))\n",
    "    # 1 2 6\n",
    "    temp = edges.get(start, [])\n",
    "    temp.append((end, cost))\n",
    "    edges[start] = temp\n",
    "    # 양방향\n",
    "    temp = edges.get(end, [])\n",
    "    temp.append((start, cost))\n",
    "    edges[end] = temp\n",
    "edges"
   ]
  },
  {
   "attachments": {},
   "cell_type": "markdown",
   "metadata": {},
   "source": [
    "### 예제: 최단경로문제"
   ]
  },
  {
   "cell_type": "code",
   "execution_count": 102,
   "metadata": {},
   "outputs": [],
   "source": [
    "input_text = \"\"\"5 6\n",
    "1\n",
    "5 1 1\n",
    "1 2 2\n",
    "1 3 3\n",
    "2 3 4\n",
    "2 4 5\n",
    "3 4 6\"\"\""
   ]
  },
  {
   "cell_type": "code",
   "execution_count": 103,
   "metadata": {},
   "outputs": [
    {
     "data": {
      "text/plain": [
       "['5 6', '1', '5 1 1', '1 2 2', '1 3 3', '2 3 4', '2 4 5', '3 4 6']"
      ]
     },
     "execution_count": 103,
     "metadata": {},
     "output_type": "execute_result"
    }
   ],
   "source": [
    "input_list = input_text.split(\"\\n\")\n",
    "input_list"
   ]
  },
  {
   "cell_type": "code",
   "execution_count": 104,
   "metadata": {},
   "outputs": [
    {
     "name": "stdout",
     "output_type": "stream",
     "text": [
      "5 6\n",
      "1\n",
      "['5 1 1', '1 2 2', '1 3 3', '2 3 4', '2 4 5', '3 4 6']\n"
     ]
    }
   ],
   "source": [
    "print(input_list[0])   # 노드 개수, 간선 개수\n",
    "print(input_list[1])   # 시작 노드\n",
    "print(input_list[2:])  # 간선 및 cost"
   ]
  },
  {
   "cell_type": "code",
   "execution_count": 105,
   "metadata": {},
   "outputs": [
    {
     "data": {
      "text/plain": [
       "(5, 6, 1)"
      ]
     },
     "execution_count": 105,
     "metadata": {},
     "output_type": "execute_result"
    }
   ],
   "source": [
    "N, V = map(int, input_list[0].split())\n",
    "start_node = int(input_list[1])\n",
    "N, V, start_node"
   ]
  },
  {
   "cell_type": "code",
   "execution_count": 106,
   "metadata": {},
   "outputs": [
    {
     "data": {
      "text/plain": [
       "{0: [],\n",
       " 1: [(2, 2), (3, 3)],\n",
       " 2: [(3, 4), (4, 5)],\n",
       " 3: [(4, 6)],\n",
       " 4: [],\n",
       " 5: [(1, 1)]}"
      ]
     },
     "execution_count": 106,
     "metadata": {},
     "output_type": "execute_result"
    }
   ],
   "source": [
    "# 단방향 엣지 딕셔너리 만들기\n",
    "edges = {node: [] for node in range(N+1)}\n",
    "\n",
    "# ex) edges = {0: [], 1: [(2, 2), (3, 3)], 2: [(3, 4), (4, 5)], 3: [(4, 6)], 4: [], 5: [(1, 1)]}\n",
    "for line in input_list[2:]:\n",
    "    start, end, cost = map(int, line.split())\n",
    "    edges[start].append((end, cost))\n",
    "\n",
    "edges"
   ]
  },
  {
   "cell_type": "code",
   "execution_count": 107,
   "metadata": {},
   "outputs": [
    {
     "data": {
      "text/plain": [
       "[1000000000.0, 0, 1000000000.0, 1000000000.0, 1000000000.0, 1000000000.0]"
      ]
     },
     "execution_count": 107,
     "metadata": {},
     "output_type": "execute_result"
    }
   ],
   "source": [
    "distances = [1e9] * (N+1)   # 최소비용을 찾는 문제는 양의 무한대로 초기화\n",
    "\n",
    "# 시작 노드 ~ 시작 노드 거리는 0\n",
    "distances[start_node] = 0\n",
    "distances"
   ]
  },
  {
   "cell_type": "code",
   "execution_count": 112,
   "metadata": {},
   "outputs": [
    {
     "data": {
      "text/plain": [
       "deque([(2, 2), (3, 3)])"
      ]
     },
     "execution_count": 112,
     "metadata": {},
     "output_type": "execute_result"
    }
   ],
   "source": [
    "from collections import deque\n",
    "queue = deque(edges[start_node])\n",
    "queue"
   ]
  },
  {
   "cell_type": "code",
   "execution_count": 113,
   "metadata": {},
   "outputs": [
    {
     "name": "stdout",
     "output_type": "stream",
     "text": [
      "[0, 2, 3, 7, 1000000000.0]\n"
     ]
    }
   ],
   "source": [
    "# 로직\n",
    "\n",
    "# queue가 비어있지 않을 때,\n",
    "while queue:\n",
    "    end, cost = queue.popleft()\n",
    "\n",
    "    # 현재 end node로 가는 distance가 cost보다 작으면, continue\n",
    "    if distances[end] <= cost:\n",
    "        continue\n",
    "\n",
    "    # end_node로 가는 cost로 최신화\n",
    "    distances[end] = cost\n",
    "\n",
    "    # 내 cost가 더 작으면?\n",
    "    for next_node, next_cost in edges[end]:     # 그 다음 갈 수 있는 node들\n",
    "\n",
    "        # node를 지나가는 동안의 cost를 추가한 후 다음 edge들을 queue에 추가\n",
    "        distance = cost + next_cost     # next_node로 가는 cost\n",
    "\n",
    "        # 이 cost가 해당 3, 4번 node로 가는 cost보다 작을 때만 queue에 추가\n",
    "        if distances[next_node] > distance:\n",
    "            queue.append((next_node, distance))\n",
    "\n",
    "            # 추가 후 distances[end_node] = 2 + 4로 cost 최신화\n",
    "\n",
    "# 시작 노드부터 각 노드까지의 거리 출력\n",
    "print(distances[1:])"
   ]
  },
  {
   "attachments": {},
   "cell_type": "markdown",
   "metadata": {},
   "source": [
    "### 최종 코드"
   ]
  },
  {
   "cell_type": "code",
   "execution_count": 114,
   "metadata": {},
   "outputs": [
    {
     "name": "stdout",
     "output_type": "stream",
     "text": [
      "[0, 2, 3, 7, 1000000000.0]\n"
     ]
    }
   ],
   "source": [
    "from collections import deque\n",
    "\n",
    "input_text = \"\"\"5 6\n",
    "1\n",
    "5 1 1\n",
    "1 2 2\n",
    "1 3 3\n",
    "2 3 4\n",
    "2 4 5\n",
    "3 4 6\"\"\"\n",
    "\n",
    "input_list = input_text.split(\"\\n\")\n",
    "\n",
    "N, V = map(int, input_list[0].split())\n",
    "start_node = int(input_list[1])\n",
    "\n",
    "# 단방향 엣지 딕셔너리 만들기\n",
    "edges = {node: [] for node in range(N+1)}\n",
    "\n",
    "# ex) edges = {0: [], 1: [(2, 2), (3, 3)], 2: [(3, 4), (4, 5)], 3: [(4, 6)], 4: [], 5: [(1, 1)]}\n",
    "for line in input_list[2:]:\n",
    "    start, end, cost = map(int, line.split())\n",
    "    edges[start].append((end, cost))\n",
    "\n",
    "distances = [1e9] * (N+1)   # 최소비용을 찾는 문제는 양의 무한대로 초기화\n",
    "\n",
    "# 시작 노드 ~ 시작 노드 거리는 0\n",
    "distances[start_node] = 0\n",
    "\n",
    "queue = deque(edges[start_node])\n",
    "\n",
    "# queue가 비어있지 않을 때,\n",
    "while queue:\n",
    "    end, cost = queue.popleft()\n",
    "\n",
    "    # 현재 end node로 가는 distance가 cost보다 작으면, continue\n",
    "    if distances[end] <= cost:\n",
    "        continue\n",
    "\n",
    "    # end_node로 가는 cost로 최신화\n",
    "    distances[end] = cost\n",
    "\n",
    "    # 내 cost가 더 작으면?\n",
    "    for next_node, next_cost in edges[end]:     # 그 다음 갈 수 있는 node들\n",
    "\n",
    "        # node를 지나가는 동안의 cost를 추가한 후 다음 edge들을 queue에 추가\n",
    "        distance = cost + next_cost     # next_node로 가는 cost\n",
    "\n",
    "        # 이 cost가 해당 3, 4번 node로 가는 cost보다 작을 때만 queue에 추가\n",
    "        if distances[next_node] > distance:\n",
    "            queue.append((next_node, distance))\n",
    "\n",
    "            # 추가 후 distances[end_node] = 2 + 4로 cost 최신화\n",
    "\n",
    "# 시작 노드부터 각 노드까지의 거리 출력\n",
    "print(distances[1:])"
   ]
  },
  {
   "cell_type": "code",
   "execution_count": null,
   "metadata": {},
   "outputs": [],
   "source": []
  }
 ],
 "metadata": {
  "kernelspec": {
   "display_name": "base",
   "language": "python",
   "name": "python3"
  },
  "language_info": {
   "codemirror_mode": {
    "name": "ipython",
    "version": 3
   },
   "file_extension": ".py",
   "mimetype": "text/x-python",
   "name": "python",
   "nbconvert_exporter": "python",
   "pygments_lexer": "ipython3",
   "version": "3.9.16"
  },
  "orig_nbformat": 4
 },
 "nbformat": 4,
 "nbformat_minor": 2
}
