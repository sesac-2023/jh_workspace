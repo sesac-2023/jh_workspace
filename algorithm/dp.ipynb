{
 "cells": [
  {
   "attachments": {},
   "cell_type": "markdown",
   "metadata": {},
   "source": [
    "### 예제: 피보나치 수열"
   ]
  },
  {
   "attachments": {},
   "cell_type": "markdown",
   "metadata": {},
   "source": [
    "#### 1. 재귀함수로 구현"
   ]
  },
  {
   "cell_type": "code",
   "execution_count": 2,
   "metadata": {},
   "outputs": [],
   "source": [
    "def fibo(n):\n",
    "    if n == 1:\n",
    "        return 1\n",
    "    if n == 0:\n",
    "        return 1\n",
    "    \n",
    "    return fibo(n-1) + fibo(n-2)"
   ]
  },
  {
   "cell_type": "code",
   "execution_count": 11,
   "metadata": {},
   "outputs": [
    {
     "name": "stdout",
     "output_type": "stream",
     "text": [
      "130.9456434249878\n"
     ]
    }
   ],
   "source": [
    "import time\n",
    "\n",
    "start_time = time.time()\n",
    "fibo(40)\n",
    "print(time.time() - start_time)"
   ]
  },
  {
   "attachments": {},
   "cell_type": "markdown",
   "metadata": {},
   "source": [
    "#### 2. 동적 계획법으로 구현"
   ]
  },
  {
   "cell_type": "code",
   "execution_count": 12,
   "metadata": {},
   "outputs": [
    {
     "data": {
      "text/plain": [
       "[1, 1, 2, 3, 5, 8]"
      ]
     },
     "execution_count": 12,
     "metadata": {},
     "output_type": "execute_result"
    }
   ],
   "source": [
    "fibo_list = [1, 1]\n",
    "\n",
    "for n in range(2, 5+1):\n",
    "    fibo_list.append(fibo_list[n-1] + fibo_list[n-2])\n",
    "\n",
    "fibo_list"
   ]
  },
  {
   "cell_type": "code",
   "execution_count": 15,
   "metadata": {},
   "outputs": [
    {
     "name": "stdout",
     "output_type": "stream",
     "text": [
      "0.01610541343688965\n"
     ]
    }
   ],
   "source": [
    "start_time = time.time()\n",
    "\n",
    "target = 10000\n",
    "\n",
    "fibo_list = [1, 1]\n",
    "\n",
    "for n in range(2, target+1):\n",
    "    fibo_list.append(fibo_list[n-1] + fibo_list[n-2])\n",
    "\n",
    "fibo_list[target]\n",
    "\n",
    "print(time.time() - start_time)"
   ]
  },
  {
   "cell_type": "code",
   "execution_count": 16,
   "metadata": {},
   "outputs": [
    {
     "data": {
      "text/plain": [
       "54438373113565281338734260993750380135389184554695967026247715841208582865622349017083051547938960541173822675978026317384359584751116241439174702642959169925586334117906063048089793531476108466259072759367899150677960088306597966641965824937721800381441158841042480997984696487375337180028163763317781927941101369262750979509800713596718023814710669912644214775254478587674568963808002962265133111359929762726679441400101575800043510777465935805362502461707918059226414679005690752321895868142367849593880756423483754386342639635970733756260098962462668746112041739819404875062443709868654315626847186195620146126642232711815040367018825205314845875817193533529827837800351902529239517836689467661917953884712441028463935449484614450778762529520961887597272889220768537396475869543159172434537193611263743926337313005896167248051737986306368115003088396749587102619524631352447499505204198305187168321623283859794627245919771454628218399695789223798912199431775469705216131081096559950638297261253848242007897109054754028438149611930465061866170122983288964352733750792786069444761853525144421077928045979904561298129423809156055033032338919609162236698759922782923191896688017718575555520994653320128446502371153715141749290913104897203455577507196645425232862022019506091483585223882711016708433051169942115775151255510251655931888164048344129557038825477521111577395780115868397072602565614824956460538700280331311861485399805397031555727529693399586079850381581446276433858828529535803424850845426446471681531001533180479567436396815653326152509571127480411928196022148849148284389124178520174507305538928717857923509417743383331506898239354421988805429332440371194867215543576548565499134519271098919802665184564927827827212957649240235507595558205647569365394873317659000206373126570643509709482649710038733517477713403319028105575667931789470024118803094604034362953471997461392274791549730356412633074230824051999996101549784667340458326852960388301120765629245998136251652347093963049734046445106365304163630823669242257761468288461791843224793434406079917883360676846711185597501"
      ]
     },
     "execution_count": 16,
     "metadata": {},
     "output_type": "execute_result"
    }
   ],
   "source": [
    "fibo_list[10000]"
   ]
  },
  {
   "attachments": {},
   "cell_type": "markdown",
   "metadata": {},
   "source": [
    "### 정수 삼각형 (Lv.3)"
   ]
  },
  {
   "cell_type": "code",
   "execution_count": 30,
   "metadata": {},
   "outputs": [],
   "source": [
    "def solution(triangle):\n",
    "    # 어디로 갈 수 있는지?\n",
    "    # 메모이제이션, 어떤 걸 기억해서 써야 하는지?\n",
    "    max_triangle = [triangle[0]]\n",
    "\n",
    "    # 2층부터 시작해서\n",
    "    for floor in range(1, len(triangle)):\n",
    "        row = triangle[floor]\n",
    "        temp = []\n",
    "        for i, v in enumerate(row):\n",
    "            # CASE 1: 맨 앞에 있을 때,\n",
    "            if i == 0:\n",
    "                # 이전 층의 맨 앞에 있는 값과 더한다.\n",
    "                temp.append(v + max_triangle[floor-1][0])\n",
    "\n",
    "            # CASE 2: 맨 뒤에 있을 때,\n",
    "            elif i == len(row) - 1:\n",
    "                # 이전 층의 맨 뒤에 있는 값과 더한다.\n",
    "                temp.append(v + max_triangle[floor-1][-1])\n",
    "\n",
    "            # CASE 3: 사이에 있을 때,\n",
    "            else:\n",
    "                # 이전 층의 바로 앞 index의 값을 더한 값과 이전 층의 같은 index의 값을 더한 값 중 최대값\n",
    "                temp.append(max(v + max_triangle[floor-1][i-1], v + max_triangle[floor-1][i]))\n",
    "        \n",
    "        max_triangle.append(temp)\n",
    "\n",
    "    [print(tri) for tri in max_triangle]\n",
    "\n",
    "    return max(max_triangle[-1])"
   ]
  },
  {
   "cell_type": "code",
   "execution_count": 31,
   "metadata": {},
   "outputs": [
    {
     "name": "stdout",
     "output_type": "stream",
     "text": [
      "[7]\n",
      "[10, 15]\n",
      "[18, 16, 15]\n",
      "[20, 25, 20, 19]\n",
      "[24, 30, 27, 26, 24]\n",
      "테스트 성공\n"
     ]
    }
   ],
   "source": [
    "if solution([[7], [3, 8], [8, 1, 0], [2, 7, 4, 4], [4, 5, 2, 6, 5]]) == 30:\n",
    "    print(\"테스트 성공\")\n",
    "else:\n",
    "    print(\"테스트 실패\")"
   ]
  },
  {
   "cell_type": "code",
   "execution_count": null,
   "metadata": {},
   "outputs": [],
   "source": []
  }
 ],
 "metadata": {
  "kernelspec": {
   "display_name": "base",
   "language": "python",
   "name": "python3"
  },
  "language_info": {
   "codemirror_mode": {
    "name": "ipython",
    "version": 3
   },
   "file_extension": ".py",
   "mimetype": "text/x-python",
   "name": "python",
   "nbconvert_exporter": "python",
   "pygments_lexer": "ipython3",
   "version": "3.9.16"
  },
  "orig_nbformat": 4
 },
 "nbformat": 4,
 "nbformat_minor": 2
}
