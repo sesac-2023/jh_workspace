{
 "cells": [
  {
   "attachments": {},
   "cell_type": "markdown",
   "metadata": {},
   "source": [
    "### 알고리즘 문제풀이를 위한 셋팅"
   ]
  },
  {
   "cell_type": "code",
   "execution_count": 27,
   "metadata": {},
   "outputs": [],
   "source": [
    "def solution(N):\n",
    "    answer = 0\n",
    "    # 전체 로직\n",
    "    # 1. 가장 큰 단위의 동전으로 거슬러 줄 수 있는 최대 동전 개수를 구한다.\n",
    "    now_coin = 500\n",
    "    while N >= now_coin: # 남은 금액이 현재 코인보다 클 때 동안만\n",
    "        N -= now_coin   # 남은 금액\n",
    "        answer += 1     # 코인을 하나 사용\n",
    "\n",
    "    print('--- 500원 ---')\n",
    "    print('남은 금액', N)\n",
    "    print('사용한 동전 개수', answer)\n",
    "\n",
    "    # 2. 그것을 정답에 더해주고, 남은 금액으로 다음 단위의 동전을 가지고 1의 과정을 반복한다.\n",
    "    now_coin = 100\n",
    "    while N >= now_coin: # 남은 금액이 현재 코인보다 클 때 동안만\n",
    "        N -= now_coin   # 남은 금액\n",
    "        answer += 1     # 코인을 하나 사용\n",
    "\n",
    "    print('--- 100원 ---')\n",
    "    print('남은 금액', N)\n",
    "    print('사용한 동전 개수', answer)\n",
    "\n",
    "    now_coin = 50\n",
    "    while N >= now_coin: # 남은 금액이 현재 코인보다 클 때 동안만\n",
    "        N -= now_coin   # 남은 금액\n",
    "        answer += 1     # 코인을 하나 사용\n",
    "        \n",
    "    print('--- 50원 ---')\n",
    "    print('남은 금액', N)\n",
    "    print('사용한 동전 개수', answer)\n",
    "\n",
    "    now_coin = 10\n",
    "    while N >= now_coin: # 남은 금액이 현재 코인보다 클 때 동안만\n",
    "        N -= now_coin   # 남은 금액\n",
    "        answer += 1     # 코인을 하나 사용\n",
    "\n",
    "    print('--- 10원 ---')\n",
    "    print('남은 금액', N)\n",
    "    print('사용한 동전 개수', answer)\n",
    "\n",
    "    # 3. 10원 짜리까지 진행하고 정답을 반환한다.\n",
    "\n",
    "    return answer"
   ]
  },
  {
   "cell_type": "code",
   "execution_count": 28,
   "metadata": {},
   "outputs": [],
   "source": [
    "def solution(N):\n",
    "    answer = 0\n",
    "    coins = [500, 100, 50, 10]  # 순서 중요\n",
    "\n",
    "    for now_coin in coins:\n",
    "        while N >= now_coin:    # 남은 금액이 현재 코인보다 클 때 동안만\n",
    "            N -= now_coin       # 남은 금액\n",
    "            answer += 1         # 코인을 하나 사용\n",
    "        print('--- {}원 ---'.format(now_coin))\n",
    "        print('남은 금액', N)\n",
    "        print('사용한 동전 개수', answer)\n",
    "        \n",
    "    return answer"
   ]
  },
  {
   "cell_type": "code",
   "execution_count": 31,
   "metadata": {},
   "outputs": [],
   "source": [
    "def solution(N):\n",
    "    answer = 0\n",
    "    coins = [500, 100, 50, 10]  # 순서 중요\n",
    "\n",
    "    for now_coin in coins:\n",
    "        answer += N // now_coin # 나눈 몫 = 사용한 동전 개수\n",
    "        N %= now_coin   # 나눈 나머지 = 나머지 금액\n",
    "\n",
    "        print('--- {}원 ---'.format(now_coin))\n",
    "        print('남은 금액', N)\n",
    "        print('사용한 동전 개수', answer)\n",
    "        \n",
    "    return answer"
   ]
  },
  {
   "attachments": {},
   "cell_type": "markdown",
   "metadata": {},
   "source": [
    "### TDD (Test-Driven Development)\n",
    "- 테스트 주도형 개발방식"
   ]
  },
  {
   "cell_type": "code",
   "execution_count": 32,
   "metadata": {},
   "outputs": [
    {
     "name": "stdout",
     "output_type": "stream",
     "text": [
      "--- 500원 ---\n",
      "남은 금액 260\n",
      "사용한 동전 개수 2\n",
      "--- 100원 ---\n",
      "남은 금액 60\n",
      "사용한 동전 개수 4\n",
      "--- 50원 ---\n",
      "남은 금액 10\n",
      "사용한 동전 개수 5\n",
      "--- 10원 ---\n",
      "남은 금액 0\n",
      "사용한 동전 개수 6\n",
      "테스트 성공\n"
     ]
    }
   ],
   "source": [
    "if solution(1260) ==  6:\n",
    "    print('테스트 성공')\n",
    "else:\n",
    "    print('테스트 실패')"
   ]
  },
  {
   "cell_type": "code",
   "execution_count": 33,
   "metadata": {},
   "outputs": [
    {
     "name": "stdout",
     "output_type": "stream",
     "text": [
      "--- 500원 ---\n",
      "남은 금액 260\n",
      "사용한 동전 개수 2\n",
      "--- 100원 ---\n",
      "남은 금액 60\n",
      "사용한 동전 개수 4\n",
      "--- 50원 ---\n",
      "남은 금액 10\n",
      "사용한 동전 개수 5\n",
      "--- 10원 ---\n",
      "남은 금액 0\n",
      "사용한 동전 개수 6\n"
     ]
    }
   ],
   "source": [
    "assert solution(1260) == 6, \"테스트 실패\""
   ]
  },
  {
   "attachments": {},
   "cell_type": "markdown",
   "metadata": {},
   "source": [
    "### 체육복 (Lv.1)"
   ]
  },
  {
   "cell_type": "code",
   "execution_count": 3,
   "metadata": {},
   "outputs": [],
   "source": [
    "def solution(n, lost, reserve):\n",
    "    # 체육복 잃어버린 학생 중 여벌 있는 학생 제외   (여벌도 없어서 타인에게 무조건 체육복을 빌려야 하는 학생 set)\n",
    "    lost_set = set(lost) - set(reserve)\n",
    "\n",
    "    # 여벌 있는 학생 중 체육복 잃어버린 학생 제외   (타인에게 빌려줄 수 있는 체육복 가진 학생 set)\n",
    "    reserve_set = set(reserve) - set(lost)\n",
    "\n",
    "    for i in reserve_set:\n",
    "        # 한 치수 작은 학생부터 빌려주고 여벌 받은 학생 제외\n",
    "        if i-1 in lost_set:\n",
    "            lost_set.remove(i-1)\n",
    "\n",
    "        # if가 아니라면 한 치수 큰 학생에게 빌려주고 여벌 받은 학생 제외외   \n",
    "        elif i+1 in lost_set:       \n",
    "            lost_set.remove(i+1)\n",
    "            \n",
    "    # 전체 학생 수 - 체육복을 빌리지 못한 학생 수\n",
    "    return n - len(lost_set)        "
   ]
  },
  {
   "cell_type": "code",
   "execution_count": null,
   "metadata": {},
   "outputs": [],
   "source": [
    "#  다른 풀이\n",
    "def solution(n, lost, reserve):\n",
    "    answer = 0\n",
    "    # 바로 앞 번호의 학생 or 바로 뒷 번호의 학생에게만 빌려줄 수 있음\n",
    "\n",
    "    # 1. 잃어버린 학생 한 명씩 번호 확인\n",
    "    # 2. 빌릴 수 있는 학생이 여벌 체육복 가져온 학생 목록에 있는지 체크\n",
    "    # 3. 빌릴 수 있다면, reserve 목록에서 제거 (중복 대여 방지)\n",
    "    # 4. 전체 학생 수에서 마지막까지 빌리지 못한 학생 수를 빼주기\n",
    "\n",
    "    # 그리디 요소?\n",
    "    # 잃어버린 학생의 앞 번호 학생에게 먼저 빌리고, 빌리지 못하면 뒷 번호 학생에게 빌린다. (체격 순서대로 되어 있기 때문)\n",
    "\n",
    "    # 여벌 체육복을 가져왔는데, 도난당한 경우 두 목록에서 제외\n",
    "\n",
    "    # 진짜 잃어버린 학생 리스트 선언\n",
    "    real_lost = []\n",
    "\n",
    "    # 잃어버린 학생 체격 순으로 정렬\n",
    "    lost.sort()\n",
    "    \n",
    "    # 잃어버린 학생들 한 명씩 확인\n",
    "    for lost_student in lost:\n",
    "\n",
    "        # 여벌이 없다면 진짜 잃어버린 학생에 추가\n",
    "        if lost_student not in reserve:\n",
    "            real_lost.append(lost_student)\n",
    "        \n",
    "        # 여벌이 있다면 빌려줄 수 있는 학생 목록에서 제거\n",
    "        else:\n",
    "            reserve.remove(lost_student)\n",
    "\n",
    "    lost = real_lost\n",
    "    lost_length = len(lost)     # 잃어버린 학생이 모두 빌리지 못했을 경우\n",
    "\n",
    "    # 빌릴 때마다 1씩 빼주기\n",
    "    for lost_student in lost:\n",
    "        if lost_student - 1 in reserve:\n",
    "\n",
    "            # 앞 번호 학생에게 빌릴 수 있으면, 못 빌린 학생 수 -1\n",
    "            lost_length -= 1\n",
    "\n",
    "            # reserve 목록에서 빌린 여벌 제거\n",
    "            reserve.remove(lost_student - 1)        # 방법 1. 값으로 제거\n",
    "\n",
    "            # idx = reserve.index(lost_student - 1)     # 방법 2. 인덱스 찾아서 제거\n",
    "            # reserve.pop(idx)\n",
    "        elif lost_student + 1 in reserve:\n",
    "\n",
    "            # 앞 번호 학생에게 빌릴 수 있으면, 못 빌린 학생 수 -1\n",
    "            lost_length -= 1\n",
    "\n",
    "            # reserve 목록에서 빌린 여벌 제거\n",
    "            reserve.remove(lost_student + 1)\n",
    "\n",
    "    # 수업을 들을 수 있는 최대 학생 수 = 전체 학생 수 - 결국 못 빌린 학생 수\n",
    "    return n - lost_length"
   ]
  },
  {
   "attachments": {},
   "cell_type": "markdown",
   "metadata": {},
   "source": [
    "### Comment\n",
    "set 자료형을 이용하면 자동으로 정렬이 되고, 차집합을 이용해서 반복문 수행 횟수를 줄일 수 있었다."
   ]
  },
  {
   "cell_type": "code",
   "execution_count": 4,
   "metadata": {},
   "outputs": [],
   "source": [
    "assert solution(5, [2, 4], [1, 3, 5]) == 5, \"테스트 실패\"\n",
    "assert solution(5, [2, 4], [3]) == 4, \"테스트 실패\"\n",
    "assert solution(3, [3], [1]) == 2, \"테스트 실패\""
   ]
  },
  {
   "attachments": {},
   "cell_type": "markdown",
   "metadata": {},
   "source": [
    "### 조이스틱 (Lv.2)"
   ]
  },
  {
   "cell_type": "code",
   "execution_count": 1,
   "metadata": {},
   "outputs": [],
   "source": [
    "def solution(name):\n",
    "    answer = 0\n",
    "    # 기본 최소 좌우 이동 거리 (default)\n",
    "    min_move = len(name) - 1\n",
    "    for i, n in enumerate(name):\n",
    "         # 최소 상하 이동 거리\n",
    "        answer += min(ord(n) - ord(\"A\"), ord(\"Z\") - ord(n) + 1)\n",
    "        \n",
    "        # 연속된 A 문자열 탐색\n",
    "        next = i + 1\n",
    "        while next < len(name) and name[next] == \"A\":\n",
    "            next += 1\n",
    "        \n",
    "        # default 좌우 이동 거리, 연속된 A 왼쪽 시작 좌우 이동 거리, 연속된 A 오른쪽 시작 좌우 이동 거리 중 최솟값 갱신\n",
    "        min_move = min(min_move, 2 * i + len(name) - next, i + 2 * (len(name) - next))\n",
    "    answer += min_move\n",
    "    return answer"
   ]
  },
  {
   "cell_type": "code",
   "execution_count": 2,
   "metadata": {},
   "outputs": [],
   "source": [
    "assert solution(\"JEROEN\") == 56, \"테스트 실패\"\n",
    "assert solution(\"JAN\") == 23, \"테스트 실패\""
   ]
  },
  {
   "attachments": {},
   "cell_type": "markdown",
   "metadata": {},
   "source": [
    "### 큰 수 만들기 (Lv.2)"
   ]
  },
  {
   "cell_type": "code",
   "execution_count": null,
   "metadata": {},
   "outputs": [],
   "source": [
    "def solution(number, k):\n",
    "    answer = []\n",
    "    for i, num in enumerate(number):\n",
    "        # 배열이 비어있지 않고, number의 앞자리보다 뒷자리가 큰 경우\n",
    "        while answer and answer[-1] < num and k > 0:\n",
    "            # 앞자리 제거\n",
    "            answer.pop()\n",
    "            k -= 1\n",
    "        # 뒷자리 배열에 추가\n",
    "        answer.append(num)\n",
    "    # 전체 배열에서 k개의 수 제거 \n",
    "    answer = answer[:len(number)-k]\n",
    "    return \"\".join(answer)"
   ]
  },
  {
   "attachments": {},
   "cell_type": "markdown",
   "metadata": {},
   "source": [
    "### 구명보트 (Lv.2)"
   ]
  },
  {
   "cell_type": "code",
   "execution_count": null,
   "metadata": {},
   "outputs": [],
   "source": [
    "def solution(people, limit):\n",
    "    people.sort()   # 무게 순으로 정렬\n",
    "    boat = 0\n",
    "    \n",
    "    i = 0   # 제일 가벼운 사람의 인덱스\n",
    "    j = len(people) - 1     # 제일 무거운 사람의 인덱스\n",
    "    \n",
    "    while i <= j:\n",
    "        boat += 1\n",
    "        # 가장 가벼운 사람과 무거운 사람 같이 탈출 가능한 경우\n",
    "        if people[i] + people[j] <= limit:\n",
    "            i += 1\n",
    "        # 무거운 사람만 탈출\n",
    "        j -= 1\n",
    "    return boat"
   ]
  }
 ],
 "metadata": {
  "kernelspec": {
   "display_name": "base",
   "language": "python",
   "name": "python3"
  },
  "language_info": {
   "codemirror_mode": {
    "name": "ipython",
    "version": 3
   },
   "file_extension": ".py",
   "mimetype": "text/x-python",
   "name": "python",
   "nbconvert_exporter": "python",
   "pygments_lexer": "ipython3",
   "version": "3.9.16"
  },
  "orig_nbformat": 4
 },
 "nbformat": 4,
 "nbformat_minor": 2
}
